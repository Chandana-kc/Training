{
 "cells": [
  {
   "cell_type": "code",
   "execution_count": 1,
   "id": "835f2e82-9109-44f4-a0e3-26829a882972",
   "metadata": {},
   "outputs": [
    {
     "name": "stdout",
     "output_type": "stream",
     "text": [
      "   STUDENT_ID             NAME  MATH  SCIENCE  ENGLISH  TOTAL  \\\n",
      "0           1   Marlee Glamart    96       30       86    8.8   \n",
      "1           2    Loria Mullany    76       91       39    5.5   \n",
      "2           3   Cindee Luipold    33       89        6    0.6   \n",
      "3           4  Prince Dimitrov    38       79       75    0.2   \n",
      "4           5   Buck Cornewall    52       41       71    2.4   \n",
      "\n",
      "              GRADE  \n",
      "0       Right-sized  \n",
      "1    well-modulated  \n",
      "2  Business-focused  \n",
      "3       Distributed  \n",
      "4     Team-oriented  \n"
     ]
    }
   ],
   "source": [
    "import pandas as pd\n",
    "# create a student dataframe by reading csv file\n",
    "df=pd.read_csv('marks_data.csv')\n",
    "print(df.head()) # check first 5 rows"
   ]
  },
  {
   "cell_type": "code",
   "execution_count": 2,
   "id": "6d328f1b-b94a-4730-ba82-d60f63e53f02",
   "metadata": {},
   "outputs": [
    {
     "data": {
      "text/html": [
       "<div>\n",
       "<style scoped>\n",
       "    .dataframe tbody tr th:only-of-type {\n",
       "        vertical-align: middle;\n",
       "    }\n",
       "\n",
       "    .dataframe tbody tr th {\n",
       "        vertical-align: top;\n",
       "    }\n",
       "\n",
       "    .dataframe thead th {\n",
       "        text-align: right;\n",
       "    }\n",
       "</style>\n",
       "<table border=\"1\" class=\"dataframe\">\n",
       "  <thead>\n",
       "    <tr style=\"text-align: right;\">\n",
       "      <th></th>\n",
       "      <th>STUDENT_ID</th>\n",
       "      <th>NAME</th>\n",
       "      <th>MATH</th>\n",
       "      <th>SCIENCE</th>\n",
       "      <th>ENGLISH</th>\n",
       "      <th>TOTAL</th>\n",
       "      <th>GRADE</th>\n",
       "    </tr>\n",
       "  </thead>\n",
       "  <tbody>\n",
       "    <tr>\n",
       "      <th>0</th>\n",
       "      <td>False</td>\n",
       "      <td>False</td>\n",
       "      <td>False</td>\n",
       "      <td>False</td>\n",
       "      <td>False</td>\n",
       "      <td>False</td>\n",
       "      <td>False</td>\n",
       "    </tr>\n",
       "    <tr>\n",
       "      <th>1</th>\n",
       "      <td>False</td>\n",
       "      <td>False</td>\n",
       "      <td>False</td>\n",
       "      <td>False</td>\n",
       "      <td>False</td>\n",
       "      <td>False</td>\n",
       "      <td>False</td>\n",
       "    </tr>\n",
       "    <tr>\n",
       "      <th>2</th>\n",
       "      <td>False</td>\n",
       "      <td>False</td>\n",
       "      <td>False</td>\n",
       "      <td>False</td>\n",
       "      <td>False</td>\n",
       "      <td>False</td>\n",
       "      <td>False</td>\n",
       "    </tr>\n",
       "    <tr>\n",
       "      <th>3</th>\n",
       "      <td>False</td>\n",
       "      <td>False</td>\n",
       "      <td>False</td>\n",
       "      <td>False</td>\n",
       "      <td>False</td>\n",
       "      <td>False</td>\n",
       "      <td>False</td>\n",
       "    </tr>\n",
       "    <tr>\n",
       "      <th>4</th>\n",
       "      <td>False</td>\n",
       "      <td>False</td>\n",
       "      <td>False</td>\n",
       "      <td>False</td>\n",
       "      <td>False</td>\n",
       "      <td>False</td>\n",
       "      <td>False</td>\n",
       "    </tr>\n",
       "    <tr>\n",
       "      <th>...</th>\n",
       "      <td>...</td>\n",
       "      <td>...</td>\n",
       "      <td>...</td>\n",
       "      <td>...</td>\n",
       "      <td>...</td>\n",
       "      <td>...</td>\n",
       "      <td>...</td>\n",
       "    </tr>\n",
       "    <tr>\n",
       "      <th>95</th>\n",
       "      <td>False</td>\n",
       "      <td>False</td>\n",
       "      <td>False</td>\n",
       "      <td>False</td>\n",
       "      <td>False</td>\n",
       "      <td>False</td>\n",
       "      <td>False</td>\n",
       "    </tr>\n",
       "    <tr>\n",
       "      <th>96</th>\n",
       "      <td>False</td>\n",
       "      <td>False</td>\n",
       "      <td>False</td>\n",
       "      <td>False</td>\n",
       "      <td>False</td>\n",
       "      <td>False</td>\n",
       "      <td>False</td>\n",
       "    </tr>\n",
       "    <tr>\n",
       "      <th>97</th>\n",
       "      <td>False</td>\n",
       "      <td>False</td>\n",
       "      <td>False</td>\n",
       "      <td>False</td>\n",
       "      <td>False</td>\n",
       "      <td>False</td>\n",
       "      <td>False</td>\n",
       "    </tr>\n",
       "    <tr>\n",
       "      <th>98</th>\n",
       "      <td>False</td>\n",
       "      <td>False</td>\n",
       "      <td>False</td>\n",
       "      <td>False</td>\n",
       "      <td>False</td>\n",
       "      <td>False</td>\n",
       "      <td>False</td>\n",
       "    </tr>\n",
       "    <tr>\n",
       "      <th>99</th>\n",
       "      <td>False</td>\n",
       "      <td>False</td>\n",
       "      <td>False</td>\n",
       "      <td>False</td>\n",
       "      <td>False</td>\n",
       "      <td>False</td>\n",
       "      <td>False</td>\n",
       "    </tr>\n",
       "  </tbody>\n",
       "</table>\n",
       "<p>100 rows × 7 columns</p>\n",
       "</div>"
      ],
      "text/plain": [
       "    STUDENT_ID   NAME   MATH  SCIENCE  ENGLISH  TOTAL  GRADE\n",
       "0        False  False  False    False    False  False  False\n",
       "1        False  False  False    False    False  False  False\n",
       "2        False  False  False    False    False  False  False\n",
       "3        False  False  False    False    False  False  False\n",
       "4        False  False  False    False    False  False  False\n",
       "..         ...    ...    ...      ...      ...    ...    ...\n",
       "95       False  False  False    False    False  False  False\n",
       "96       False  False  False    False    False  False  False\n",
       "97       False  False  False    False    False  False  False\n",
       "98       False  False  False    False    False  False  False\n",
       "99       False  False  False    False    False  False  False\n",
       "\n",
       "[100 rows x 7 columns]"
      ]
     },
     "execution_count": 2,
     "metadata": {},
     "output_type": "execute_result"
    }
   ],
   "source": [
    "df.isna()"
   ]
  },
  {
   "cell_type": "code",
   "execution_count": 4,
   "id": "c670c626-74b0-4af3-bcac-9f68991b82f8",
   "metadata": {},
   "outputs": [
    {
     "name": "stdout",
     "output_type": "stream",
     "text": [
      "              NAME  MATH  SCIENCE  ENGLISH  TOTAL\n",
      "0   Marlee Glamart    96       30       86    8.8\n",
      "1    Loria Mullany    76       91       39    5.5\n",
      "2   Cindee Luipold    33       89        6    0.6\n",
      "3  Prince Dimitrov    38       79       75    0.2\n",
      "4   Buck Cornewall    52       41       71    2.4\n"
     ]
    }
   ],
   "source": [
    "df['total']=df[['MATH','SCIENCE','ENGLISH']].sum(axis=1)\n",
    "print(df[['NAME','MATH','SCIENCE','ENGLISH','TOTAL']].head())"
   ]
  },
  {
   "cell_type": "code",
   "execution_count": 31,
   "id": "e3b7b1fa-9162-4042-be6f-e37ec82c2243",
   "metadata": {},
   "outputs": [],
   "source": [
    "def assign_grade(total):\n",
    "    if total>=7.5:\n",
    "        return 'A'\n",
    "    elif total>=6:\n",
    "        return 'B'\n",
    "    elif total>=5:\n",
    "        return 'C'\n",
    "    else:\n",
    "        return 'D'\n"
   ]
  },
  {
   "cell_type": "code",
   "execution_count": 32,
   "id": "6b3219cf-a407-4307-9b4c-e0a7dbc8ed83",
   "metadata": {},
   "outputs": [],
   "source": [
    "df['GRADE']=df['TOTAL'].apply(assign_grade)"
   ]
  },
  {
   "cell_type": "code",
   "execution_count": 33,
   "id": "40fab550-9a6b-4a83-8815-c023ef01735b",
   "metadata": {},
   "outputs": [
    {
     "data": {
      "text/html": [
       "<div>\n",
       "<style scoped>\n",
       "    .dataframe tbody tr th:only-of-type {\n",
       "        vertical-align: middle;\n",
       "    }\n",
       "\n",
       "    .dataframe tbody tr th {\n",
       "        vertical-align: top;\n",
       "    }\n",
       "\n",
       "    .dataframe thead th {\n",
       "        text-align: right;\n",
       "    }\n",
       "</style>\n",
       "<table border=\"1\" class=\"dataframe\">\n",
       "  <thead>\n",
       "    <tr style=\"text-align: right;\">\n",
       "      <th></th>\n",
       "      <th>NAME</th>\n",
       "      <th>TOTAL</th>\n",
       "      <th>GRADE</th>\n",
       "    </tr>\n",
       "  </thead>\n",
       "  <tbody>\n",
       "    <tr>\n",
       "      <th>95</th>\n",
       "      <td>Ernie Thew</td>\n",
       "      <td>5.1</td>\n",
       "      <td>C</td>\n",
       "    </tr>\n",
       "    <tr>\n",
       "      <th>96</th>\n",
       "      <td>Holli Davidson</td>\n",
       "      <td>6.2</td>\n",
       "      <td>B</td>\n",
       "    </tr>\n",
       "    <tr>\n",
       "      <th>97</th>\n",
       "      <td>Randolph Witson</td>\n",
       "      <td>7.2</td>\n",
       "      <td>B</td>\n",
       "    </tr>\n",
       "    <tr>\n",
       "      <th>98</th>\n",
       "      <td>Monti Howship</td>\n",
       "      <td>3.7</td>\n",
       "      <td>D</td>\n",
       "    </tr>\n",
       "    <tr>\n",
       "      <th>99</th>\n",
       "      <td>Hank Carson</td>\n",
       "      <td>2.6</td>\n",
       "      <td>D</td>\n",
       "    </tr>\n",
       "  </tbody>\n",
       "</table>\n",
       "</div>"
      ],
      "text/plain": [
       "               NAME  TOTAL GRADE\n",
       "95       Ernie Thew    5.1     C\n",
       "96   Holli Davidson    6.2     B\n",
       "97  Randolph Witson    7.2     B\n",
       "98    Monti Howship    3.7     D\n",
       "99      Hank Carson    2.6     D"
      ]
     },
     "execution_count": 33,
     "metadata": {},
     "output_type": "execute_result"
    }
   ],
   "source": [
    "df[['NAME','TOTAL','GRADE']].tail()"
   ]
  },
  {
   "cell_type": "code",
   "execution_count": 34,
   "id": "0924399f-35ff-4e18-96df-2ab8ab18872a",
   "metadata": {},
   "outputs": [
    {
     "name": "stdout",
     "output_type": "stream",
     "text": [
      "('no of students secured grade B: ', 29)\n"
     ]
    }
   ],
   "source": [
    "grade_a_students=df[df['GRADE']=='A']\n",
    "print((\"no of students secured grade B: \" , len(grade_a_students)))"
   ]
  },
  {
   "cell_type": "code",
   "execution_count": 35,
   "id": "ed36f373-e340-4cc0-a86d-7828d11172ee",
   "metadata": {},
   "outputs": [
    {
     "name": "stdout",
     "output_type": "stream",
     "text": [
      "Total No of students failed:  43\n"
     ]
    }
   ],
   "source": [
    "print(\"Total No of students failed: \",len(df[df['GRADE']=='D']))"
   ]
  },
  {
   "cell_type": "code",
   "execution_count": 36,
   "id": "f074cbe1-6801-43d0-b7a4-9bc9a1c9ffc0",
   "metadata": {},
   "outputs": [
    {
     "name": "stdout",
     "output_type": "stream",
     "text": [
      "100\n"
     ]
    }
   ],
   "source": [
    "math_max=max(df['MATH'])\n",
    "print(math_max)"
   ]
  },
  {
   "cell_type": "code",
   "execution_count": 37,
   "id": "81808a0e-1cd6-4591-a5a6-86bdbbbe7740",
   "metadata": {},
   "outputs": [
    {
     "name": "stdout",
     "output_type": "stream",
     "text": [
      "    STUDENT_ID          NAME  MATH  SCIENCE  ENGLISH  TOTAL GRADE  total\n",
      "37          38  Debi Plampin   100       98       14    8.6     A    212\n"
     ]
    }
   ],
   "source": [
    "print(df[df['MATH']==math_max])"
   ]
  },
  {
   "cell_type": "code",
   "execution_count": null,
   "id": "479cac75-3bab-4bb8-a9ab-f54fdc3f7a9d",
   "metadata": {},
   "outputs": [],
   "source": []
  }
 ],
 "metadata": {
  "kernelspec": {
   "display_name": "Python 3 (ipykernel)",
   "language": "python",
   "name": "python3"
  },
  "language_info": {
   "codemirror_mode": {
    "name": "ipython",
    "version": 3
   },
   "file_extension": ".py",
   "mimetype": "text/x-python",
   "name": "python",
   "nbconvert_exporter": "python",
   "pygments_lexer": "ipython3",
   "version": "3.13.2"
  }
 },
 "nbformat": 4,
 "nbformat_minor": 5
}
