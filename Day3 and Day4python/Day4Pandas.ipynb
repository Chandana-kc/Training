{
 "cells": [
  {
   "cell_type": "code",
   "execution_count": 1,
   "id": "ac7e2355-645a-489e-9102-30b5c4ffc17c",
   "metadata": {},
   "outputs": [
    {
     "name": "stdout",
     "output_type": "stream",
     "text": [
      "version:  2.2.3\n"
     ]
    }
   ],
   "source": [
    "import pandas as pd\n",
    "print('version: ' ,pd.__version__)"
   ]
  },
  {
   "cell_type": "code",
   "execution_count": 2,
   "id": "5be51e37-924f-4a7c-b24c-630aea6d69b5",
   "metadata": {},
   "outputs": [
    {
     "name": "stdout",
     "output_type": "stream",
     "text": [
      "0     1\n",
      "1     9\n",
      "2     4\n",
      "3    29\n",
      "4    54\n",
      "5    89\n",
      "6    20\n",
      "dtype: int64\n"
     ]
    }
   ],
   "source": [
    "list=[1,9,4,29,54,89,20]\n",
    "myseries=pd.Series(list)\n",
    "print(myseries)\n",
    "print(\"Element at Index 3\",myseries[3])"
   ]
  },
  {
   "cell_type": "code",
   "execution_count": 3,
   "id": "08b295b6-adc8-452b-b085-8b82ac0a22f6",
   "metadata": {},
   "outputs": [
    {
     "name": "stdout",
     "output_type": "stream",
     "text": [
      "a    1\n",
      "b    7\n",
      "c    4\n",
      "dtype: int64\n",
      "7\n"
     ]
    }
   ],
   "source": [
    "# let's create own labels\n",
    "import pandas as pd\n",
    "a=[1,7,4]\n",
    "myvar=pd.Series(a,index=[\"a\",\"b\",\"c\"])\n",
    "print(myvar)\n",
    "print(myvar[\"b\"])"
   ]
  },
  {
   "cell_type": "code",
   "execution_count": 4,
   "id": "31610cb1-16d8-4ace-8101-6d78386c994b",
   "metadata": {},
   "outputs": [
    {
     "name": "stdout",
     "output_type": "stream",
     "text": [
      "id                          1\n",
      "name                Chanadana\n",
      "email      chandana@gmail.com\n",
      "address                Mysore\n",
      "Salary                  98000\n",
      "dtype: object\n",
      "id 1\n",
      "name Chanadana\n",
      "email chandana@gmail.com\n",
      "address Mysore\n",
      "Salary 98000\n"
     ]
    }
   ],
   "source": [
    "employee={\n",
    "    \"id\":1,\n",
    "    \"name\":\"Chanadana\",\n",
    "    \"email\":\"chandana@gmail.com\",\n",
    "    \"address\":\"Mysore\",\n",
    "    \"Salary\":98000\n",
    "}\n",
    "data=pd.Series(employee)\n",
    "print(data)\n",
    "print(\"id\",data[\"id\"])\n",
    "print(\"name\",data[\"name\"])\n",
    "print(\"email\",data[\"email\"])\n",
    "print(\"address\",data[\"address\"])\n",
    "print(\"Salary\",data[\"Salary\"])\n"
   ]
  },
  {
   "cell_type": "code",
   "execution_count": null,
   "id": "4992e682-7425-4bce-99db-0cffc7080bf3",
   "metadata": {},
   "outputs": [],
   "source": [
    "# A Dataframe is a 2D tabular data structure in pandas,similar to an Excel sheet or SQL table . It allows to store , manipulate,and analyze structured data"
   ]
  },
  {
   "cell_type": "code",
   "execution_count": null,
   "id": "8ab8edd1-92f5-4670-b977-aff726c19ce0",
   "metadata": {},
   "outputs": [],
   "source": [
    "sample={\n",
    "    \"id\":[1,2,3,4],\n",
    "    \"name\":[\"A\",\"B\",\"C\",\"D\""
   ]
  },
  {
   "cell_type": "code",
   "execution_count": 6,
   "id": "27b8fe29-51e6-4845-9a73-fa20ed5b8d6a",
   "metadata": {},
   "outputs": [
    {
     "name": "stdout",
     "output_type": "stream",
     "text": [
      "       Name  Age      City\n",
      "0  Chandana   25    Mandya\n",
      "1    Charan   30    Mysore\n",
      "2   Keshava   40  Banglore\n"
     ]
    }
   ],
   "source": [
    "data = {\n",
    "    \"Name\":[\"Chandana\",\"Charan\",\"Keshava\"],\n",
    "    \"Age\":[25,30,40],\n",
    "    \"City\":[\"Mandya\",\"Mysore\",\"Banglore\"]\n",
    "}\n",
    " \n",
    "df = pd.DataFrame(data)\n",
    "print(df)"
   ]
  },
  {
   "cell_type": "code",
   "execution_count": 7,
   "id": "87b270a6-e296-4c91-b3b4-421e5546fde6",
   "metadata": {},
   "outputs": [
    {
     "name": "stdout",
     "output_type": "stream",
     "text": [
      "    name  age\n",
      "0   alex   20\n",
      "1    bob   40\n",
      "2  catty   23\n",
      "3  david   14\n",
      "First Row\n",
      "name    alex\n",
      "age       20\n",
      "Name: 0, dtype: object\n",
      "   name  age\n",
      "0  alex   20\n",
      "1   bob   40\n"
     ]
    }
   ],
   "source": [
    "data={\n",
    "    \"name\":[\"alex\",\"bob\",\"catty\",\"david\"],\n",
    "    \"age\":[20,40,23,14]\n",
    "}\n",
    "myvar=pd.DataFrame(data)\n",
    "print(myvar)\n",
    "print(\"First Row\")\n",
    "print(myvar.loc[0])\n",
    "print(myvar.loc[[0,1]])"
   ]
  },
  {
   "cell_type": "code",
   "execution_count": 8,
   "id": "8347c1ef-ac18-48ef-aa1c-b95e73f19d29",
   "metadata": {},
   "outputs": [
    {
     "name": "stdout",
     "output_type": "stream",
     "text": [
      "       Name  Age      City\n",
      "0  Chandana   25    Mandya\n",
      "2   Keshava   40  Banglore\n"
     ]
    }
   ],
   "source": [
    "print(df.loc[[0,2]])"
   ]
  },
  {
   "cell_type": "code",
   "execution_count": 9,
   "id": "7ebd28e8-ab91-48c0-8232-058cb2d2cc84",
   "metadata": {},
   "outputs": [
    {
     "name": "stdout",
     "output_type": "stream",
     "text": [
      "name    Bob\n",
      "age      23\n",
      "Name: user3, dtype: object\n",
      "        name  age\n",
      "user1   alex   23\n",
      "user2  catty   24\n",
      "user3    Bob   23\n"
     ]
    }
   ],
   "source": [
    "user_data={\n",
    "    \"name\":[\"alex\",\"catty\",\"Bob\"],\n",
    "    \"age\":[23,24,23]\n",
    "}\n",
    "df1=pd.DataFrame(user_data,index=[\"user1\",\"user2\",\"user3\"])\n",
    "print(df1.loc[\"user3\"])\n",
    "print(df1)"
   ]
  },
  {
   "cell_type": "code",
   "execution_count": 11,
   "id": "38990f19-5f7f-4eb7-85af-f7b1743dc298",
   "metadata": {},
   "outputs": [
    {
     "name": "stdout",
     "output_type": "stream",
     "text": [
      "    name  age  salary             email\n",
      "0   alex   23  980345    alex@gmail.com\n",
      "1  catty   24   87446  catty@hgmail.com\n",
      "2    Bob   23   66838     bob@gmail.com\n"
     ]
    }
   ],
   "source": [
    "user_data={\n",
    "    \"name\":[\"alex\",\"catty\",\"Bob\"],\n",
    "    \"age\":[23,24,23],\n",
    "    \"salary\":[980345,87446,66838],\n",
    "    \"email\":[\"alex@gmail.com\",\"catty@hgmail.com\",\"bob@gmail.com\"]\n",
    "}\n",
    "df1=pd.DataFrame(user_data)\n",
    "print(df1)"
   ]
  },
  {
   "cell_type": "code",
   "execution_count": 14,
   "id": "e4cf851c-e959-4d0c-a7cd-5710afe3633a",
   "metadata": {},
   "outputs": [
    {
     "name": "stdout",
     "output_type": "stream",
     "text": [
      "      Name  Age         City\n",
      "0     alex   25     New York\n",
      "1      Bob   30  Los Angeles\n",
      "2  Charlie   46    Chicokago\n",
      "3    David   34      Houstan\n"
     ]
    }
   ],
   "source": [
    "\n",
    "data=[\n",
    "    [\"alex\",25,\"New York\"],\n",
    "    [\"Bob\",30,\"Los Angeles\"],\n",
    "    [\"Charlie\",46,\"Chicokago\"],\n",
    "    [\"David\",34,\"Houstan\"]\n",
    "]\n",
    "df=pd.DataFrame(data,columns=[\"Name\",\"Age\",\"City\"])\n",
    "print(df)"
   ]
  },
  {
   "cell_type": "code",
   "execution_count": 15,
   "id": "51614c2e-03dc-44e1-a4af-12afb8be2670",
   "metadata": {},
   "outputs": [
    {
     "name": "stdout",
     "output_type": "stream",
     "text": [
      "     id          first_name    last_name                       email  \\\n",
      "0     1  Reggie Margerrison  Margerrison      rmargerrison0@live.com   \n",
      "1     2         Jody Cossor       Cossor   jcossor1@seattletimes.com   \n",
      "2     3  Anneliese Scrivner     Scrivner       ascrivner2@flavors.me   \n",
      "3     4      Kippy Fishburn     Fishburn    kfishburn3@microsoft.com   \n",
      "4     5    Fritz Vasilmanov   Vasilmanov  fvasilmanov4@discovery.com   \n",
      "..  ...                 ...          ...                         ...   \n",
      "95   96       Janos McFeate      McFeate   jmcfeate2n@altervista.org   \n",
      "96   97     Moise Silvester    Silvester    msilvester2o@addthis.com   \n",
      "97   98     Joyan Basindale    Basindale          jbasindale2p@is.gd   \n",
      "98   99        Bell Hearnah      Hearnah       bhearnah2q@flavors.me   \n",
      "99  100       Gordie Coomes       Coomes  gcoomes2r@odnoklassniki.ru   \n",
      "\n",
      "        gender  grade  \n",
      "0       Female    5.3  \n",
      "1       Female    1.2  \n",
      "2       Female    6.5  \n",
      "3       Female    6.1  \n",
      "4   Non-binary    8.2  \n",
      "..         ...    ...  \n",
      "95  Non-binary    5.4  \n",
      "96        Male    2.5  \n",
      "97      Female    5.6  \n",
      "98      Female    1.9  \n",
      "99        Male    2.5  \n",
      "\n",
      "[100 rows x 6 columns]\n"
     ]
    }
   ],
   "source": [
    "student_data=pd.read_csv('student_data.csv')\n",
    "print(student_data)"
   ]
  },
  {
   "cell_type": "code",
   "execution_count": 16,
   "id": "2fa03fbc-78e8-41cd-8b16-56f03b016d8c",
   "metadata": {},
   "outputs": [
    {
     "data": {
      "text/html": [
       "<div>\n",
       "<style scoped>\n",
       "    .dataframe tbody tr th:only-of-type {\n",
       "        vertical-align: middle;\n",
       "    }\n",
       "\n",
       "    .dataframe tbody tr th {\n",
       "        vertical-align: top;\n",
       "    }\n",
       "\n",
       "    .dataframe thead th {\n",
       "        text-align: right;\n",
       "    }\n",
       "</style>\n",
       "<table border=\"1\" class=\"dataframe\">\n",
       "  <thead>\n",
       "    <tr style=\"text-align: right;\">\n",
       "      <th></th>\n",
       "      <th>id</th>\n",
       "      <th>first_name</th>\n",
       "      <th>last_name</th>\n",
       "      <th>email</th>\n",
       "      <th>gender</th>\n",
       "      <th>grade</th>\n",
       "    </tr>\n",
       "  </thead>\n",
       "  <tbody>\n",
       "    <tr>\n",
       "      <th>0</th>\n",
       "      <td>1</td>\n",
       "      <td>Reggie Margerrison</td>\n",
       "      <td>Margerrison</td>\n",
       "      <td>rmargerrison0@live.com</td>\n",
       "      <td>Female</td>\n",
       "      <td>5.3</td>\n",
       "    </tr>\n",
       "    <tr>\n",
       "      <th>1</th>\n",
       "      <td>2</td>\n",
       "      <td>Jody Cossor</td>\n",
       "      <td>Cossor</td>\n",
       "      <td>jcossor1@seattletimes.com</td>\n",
       "      <td>Female</td>\n",
       "      <td>1.2</td>\n",
       "    </tr>\n",
       "    <tr>\n",
       "      <th>2</th>\n",
       "      <td>3</td>\n",
       "      <td>Anneliese Scrivner</td>\n",
       "      <td>Scrivner</td>\n",
       "      <td>ascrivner2@flavors.me</td>\n",
       "      <td>Female</td>\n",
       "      <td>6.5</td>\n",
       "    </tr>\n",
       "    <tr>\n",
       "      <th>3</th>\n",
       "      <td>4</td>\n",
       "      <td>Kippy Fishburn</td>\n",
       "      <td>Fishburn</td>\n",
       "      <td>kfishburn3@microsoft.com</td>\n",
       "      <td>Female</td>\n",
       "      <td>6.1</td>\n",
       "    </tr>\n",
       "    <tr>\n",
       "      <th>4</th>\n",
       "      <td>5</td>\n",
       "      <td>Fritz Vasilmanov</td>\n",
       "      <td>Vasilmanov</td>\n",
       "      <td>fvasilmanov4@discovery.com</td>\n",
       "      <td>Non-binary</td>\n",
       "      <td>8.2</td>\n",
       "    </tr>\n",
       "  </tbody>\n",
       "</table>\n",
       "</div>"
      ],
      "text/plain": [
       "   id          first_name    last_name                       email  \\\n",
       "0   1  Reggie Margerrison  Margerrison      rmargerrison0@live.com   \n",
       "1   2         Jody Cossor       Cossor   jcossor1@seattletimes.com   \n",
       "2   3  Anneliese Scrivner     Scrivner       ascrivner2@flavors.me   \n",
       "3   4      Kippy Fishburn     Fishburn    kfishburn3@microsoft.com   \n",
       "4   5    Fritz Vasilmanov   Vasilmanov  fvasilmanov4@discovery.com   \n",
       "\n",
       "       gender  grade  \n",
       "0      Female    5.3  \n",
       "1      Female    1.2  \n",
       "2      Female    6.5  \n",
       "3      Female    6.1  \n",
       "4  Non-binary    8.2  "
      ]
     },
     "execution_count": 16,
     "metadata": {},
     "output_type": "execute_result"
    }
   ],
   "source": [
    "# directly taking tabular structure\n",
    "student_data.head()\n",
    "# print(student_data.head())"
   ]
  },
  {
   "cell_type": "code",
   "execution_count": 17,
   "id": "88d8f4ef-53e8-49ad-974f-9cf47a5b7ae7",
   "metadata": {},
   "outputs": [
    {
     "name": "stdout",
     "output_type": "stream",
     "text": [
      "     id             first_name      last_name                            email       gender  grade\n",
      "0     1     Reggie Margerrison    Margerrison           rmargerrison0@live.com       Female    5.3\n",
      "1     2            Jody Cossor         Cossor        jcossor1@seattletimes.com       Female    1.2\n",
      "2     3     Anneliese Scrivner       Scrivner            ascrivner2@flavors.me       Female    6.5\n",
      "3     4         Kippy Fishburn       Fishburn         kfishburn3@microsoft.com       Female    6.1\n",
      "4     5       Fritz Vasilmanov     Vasilmanov       fvasilmanov4@discovery.com   Non-binary    8.2\n",
      "5     6            Raviv Lohan          Lohan         rlohan5@reverbnation.com         Male    9.6\n",
      "6     7        Annetta Slorach        Slorach      aslorach6@cocolog-nifty.com      Agender    8.1\n",
      "7     8       Shanna Whitewood      Whitewood  swhitewood7@constantcontact.com       Female    8.4\n",
      "8     9        Monika Sharvill       Sharvill          msharvill8@cbslocal.com     Bigender    1.3\n",
      "9    10  Shaylah Grisenthwaite  Grisenthwaite          sgrisenthwaite9@cdc.gov       Female    9.6\n",
      "10   11       Tandy O'Driscole     O'Driscole          todriscolea@harvard.edu       Female    9.9\n",
      "11   12           Jude Cormode        Cormode               jcormodeb@wisc.edu         Male    4.8\n",
      "12   13       Christen Hubbert        Hubbert           chubbertc@illinois.edu       Female    5.2\n",
      "13   14          Desmund Lauks          Lauks         dlauksd@sciencedaily.com         Male    9.2\n",
      "14   15            Britt Obray          Obray               bobraye@cdbaby.com       Female    8.4\n",
      "15   16           Selby Vankin         Vankin                   svankinf@is.gd         Male    4.0\n",
      "16   17            Sax Tingley        Tingley                stingleyg@wsj.com         Male    7.6\n",
      "17   18         Roddy Ormesher       Ormesher          rormesherh@google.co.uk  Genderfluid    5.2\n",
      "18   19      Sophronia Bedbury        Bedbury          sbedburyi@mediafire.com       Female    2.1\n",
      "19   20       Gregorius Grewer         Grewer               ggrewerj@imgur.com         Male    8.2\n",
      "20   21          Colet Peoples        Peoples           cpeoplesk@netvibes.com         Male    6.2\n",
      "21   22         Cathi Lavender       Lavender         clavenderl@clickbank.net       Female    8.3\n",
      "22   23         Riccardo Clark          Clark            rclarkm@indiegogo.com         Male    2.5\n",
      "23   24      Ethelred Kowalski       Kowalski              ekowalskin@wisc.edu         Male    5.3\n",
      "24   25         Ashlin Marsden        Marsden             amarsdeno@tumblr.com         Male    9.2\n",
      "25   26        Leonerd Ewbanck        Ewbanck             lewbanckp@flavors.me         Male    7.1\n",
      "26   27         Yance Servante       Servante            yservanteq@seesaa.net         Male    7.2\n",
      "27   28           Vito Lysaght        Lysaght            vlysaghtr@twitter.com         Male    2.4\n",
      "28   29           Colin Ebertz         Ebertz                  cebertzs@qq.com         Male    9.2\n",
      "29   30         Addia Burhouse       Burhouse             aburhouset@mysql.com       Female    6.1\n",
      "30   31         Othella Lownds         Lownds            olowndsu@illinois.edu  Genderfluid    9.5\n",
      "31   32        Bennett Gothard        Gothard                bgothardv@mlb.com         Male   10.0\n",
      "32   33              Stern Tew            Tew                   steww@nasa.gov         Male    8.8\n",
      "33   34        Billy Brownsell      Brownsell        bbrownsellx@princeton.edu         Male    4.7\n",
      "34   35     Jerald Braithwaite    Braithwaite      jbraithwaitey@shinystat.com         Male    5.1\n",
      "35   36           Etty Harbage        Harbage            eharbagez@cornell.edu       Female    5.7\n",
      "36   37        Bernard Cassels        Cassels          bcassels10@mashable.com     Bigender    5.7\n",
      "37   38           Berget Daber          Daber                bdaber11@gmpg.org       Female    4.9\n",
      "38   39         Paddy McGrayle       McGrayle             pmcgrayle12@lulu.com         Male    9.3\n",
      "39   40        Menard Gwillyam       Gwillyam           mgwillyam13@nature.com         Male    6.4\n",
      "40   41            Benni Kikke          Kikke               bkikke14@blogs.com       Female    6.5\n",
      "41   42          Barry Gostick        Gostick               bgostick15@who.int         Male    4.7\n",
      "42   43        Yolande Plowell        Plowell             yplowell16@prlog.org       Female    1.6\n",
      "43   44        Fraser Hercules       Hercules          fhercules17@youtube.com         Male    6.8\n",
      "44   45        Marie-ann Eaddy          Eaddy          meaddy18@yellowbook.com       Female    6.2\n",
      "45   46            Byram Lotze          Lotze               blotze19@nifty.com         Male    1.8\n",
      "46   47      Xenos De Filippis    De Filippis                 xde1a@utexas.edu         Male    6.4\n",
      "47   48           Camel Connal         Connal          cconnal1b@google.com.br       Female    1.7\n",
      "48   49        Bartlett Linder         Linder       blinder1c@businesswire.com         Male    6.7\n",
      "49   50          Harriot Sizey          Sizey             hsizey1d@arizona.edu  Genderfluid    9.6\n",
      "50   51            Cristy Elsy           Elsy          celsy1e@statcounter.com       Female    2.6\n",
      "51   52      Frederica Rolance        Rolance              frolance1f@jugem.jp       Female    5.7\n",
      "52   53            Dolly Bucky          Bucky               dbucky1g@baidu.com       Female    1.4\n",
      "53   54         Karlens Kynsey         Kynsey            kkynsey1h@auda.org.au  Genderfluid    8.6\n",
      "54   55       Augustine Louthe         Louthe             alouthe1i@usnews.com         Male    8.0\n",
      "55   56          Myrtle Dibble         Dibble        mdibble1j@studiopress.com     Bigender    9.3\n",
      "56   57       Albertina Dobbin         Dobbin                  adobbin1k@51.la       Female    8.0\n",
      "57   58       Durante Paxeford       Paxeford        dpaxeford1l@economist.com         Male    4.6\n",
      "58   59          Donal Rubenov        Rubenov          drubenov1m@bandcamp.com         Male    8.0\n",
      "59   60        Gill Dellatorre     Dellatorre        gdellatorre1n@addthis.com       Female    5.4\n",
      "60   61       Cherice Tollfree       Tollfree           ctollfree1o@jalbum.net       Female    4.9\n",
      "61   62            Fran Cuphus         Cuphus               fcuphus1p@jugem.jp         Male    1.7\n",
      "62   63          Alexandr Wain           Wain                awain1q@desdev.cn         Male    4.0\n",
      "63   64        Evelyn Shearman       Shearman           eshearman1r@dyndns.org   Non-binary    2.7\n",
      "64   65         Simeon Aldrich        Aldrich               saldrich1s@aol.com         Male    9.4\n",
      "65   66         Avrit Roswarne       Roswarne          aroswarne1t@smugmug.com       Female    3.6\n",
      "66   67          Elihu Gething        Gething            egething1u@uol.com.br         Male    7.7\n",
      "67   68               Noe Leas           Leas                nleas1v@yahoo.com         Male    2.2\n",
      "68   69             Dyna Spens          Spens                 dspens1w@bbb.org  Genderqueer    1.3\n",
      "69   70        Lorianna Yetman         Yetman          lyetman1x@discovery.com       Female    3.4\n",
      "70   71          Jereme Huggin         Huggin               jhuggin1y@java.com         Male    2.9\n",
      "71   72      Riobard Clementel      Clementel          rclementel1z@usnews.com         Male    7.5\n",
      "72   73           Ashla Talman         Talman             atalman20@jalbum.net       Female    4.4\n",
      "73   74           Timmy Height         Height               theight21@bing.com       Female    4.3\n",
      "74   75          Allie Heaslip        Heaslip              aheaslip22@time.com      Agender   10.0\n",
      "75   76          Duky Ivanchov       Ivanchov       divanchov23@wikispaces.com         Male    3.1\n",
      "76   77           Coral Sibary         Sibary            csibary24@example.com       Female    2.7\n",
      "77   78            Matty Roffe          Roffe           mroffe25@mediafire.com       Female    6.2\n",
      "78   79           Ruddie Morse          Morse           rmorse26@parallels.com         Male    3.8\n",
      "79   80            Allin Galea          Galea            agalea27@addtoany.com         Male    1.6\n",
      "80   81         Loralie Monday         Monday        lmonday28@marketwatch.com       Female    5.8\n",
      "81   82           Brod Hadcock        Hadcock         bhadcock29@discovery.com         Male    1.4\n",
      "82   83       Rolland Clipsham       Clipsham           rclipsham2a@cdbaby.com         Male    4.3\n",
      "83   84          Rebecka Hysom          Hysom              rhysom2b@amazon.com       Female    3.6\n",
      "84   85          Jeannine Curd           Curd                  jcurd2c@nps.gov       Female    5.4\n",
      "85   86         Bennett Erratt         Erratt          berratt2d@posterous.com         Male    4.6\n",
      "86   87        Anallese Piwell         Piwell            apiwell2e@tinyurl.com       Female    8.7\n",
      "87   88         Tamarah Fowler         Fowler              tfowler2f@cisco.com       Female    9.0\n",
      "88   89         Darrel Marrett        Marrett          dmarrett2g@freewebs.com         Male    5.6\n",
      "89   90          Adamo Fielder        Fielder            afielder2h@boston.com         Male    6.6\n",
      "90   91         Nikola Heymann        Heymann        nheymann2i@altervista.org         Male    1.0\n",
      "91   92           Donna Dykins         Dykins          ddykins2j@reference.com       Female    1.7\n",
      "92   93            Rebe Eilles         Eilles             reilles2k@github.com       Female    4.0\n",
      "93   94     Miof mela Malinson       Malinson                 mmela2l@1688.com       Female    1.7\n",
      "94   95            Banky Orsay          Orsay          borsay2m@infoseek.co.jp         Male    3.6\n",
      "95   96          Janos McFeate        McFeate        jmcfeate2n@altervista.org   Non-binary    5.4\n",
      "96   97        Moise Silvester      Silvester         msilvester2o@addthis.com         Male    2.5\n",
      "97   98        Joyan Basindale      Basindale               jbasindale2p@is.gd       Female    5.6\n",
      "98   99           Bell Hearnah        Hearnah            bhearnah2q@flavors.me       Female    1.9\n",
      "99  100          Gordie Coomes         Coomes       gcoomes2r@odnoklassniki.ru         Male    2.5\n"
     ]
    }
   ],
   "source": [
    "print(student_data.to_string())"
   ]
  },
  {
   "cell_type": "code",
   "execution_count": 18,
   "id": "cd21da91-3514-4f25-9eb7-e9ee6ba49196",
   "metadata": {},
   "outputs": [
    {
     "name": "stdout",
     "output_type": "stream",
     "text": [
      "   id          first_name    last_name                      email  gender  \\\n",
      "0   1  Reggie Margerrison  Margerrison     rmargerrison0@live.com  Female   \n",
      "1   2         Jody Cossor       Cossor  jcossor1@seattletimes.com  Female   \n",
      "2   3  Anneliese Scrivner     Scrivner      ascrivner2@flavors.me  Female   \n",
      "\n",
      "   grade  \n",
      "0    5.3  \n",
      "1    1.2  \n",
      "2    6.5  \n"
     ]
    }
   ],
   "source": [
    "print(student_data.head(3)) ##give first 3 rows"
   ]
  },
  {
   "cell_type": "code",
   "execution_count": 19,
   "id": "2dc70cc9-dcff-4d2b-9d98-2080cb618491",
   "metadata": {},
   "outputs": [
    {
     "name": "stdout",
     "output_type": "stream",
     "text": [
      "     id     first_name last_name                       email  gender  grade\n",
      "98   99   Bell Hearnah   Hearnah       bhearnah2q@flavors.me  Female    1.9\n",
      "99  100  Gordie Coomes    Coomes  gcoomes2r@odnoklassniki.ru    Male    2.5\n"
     ]
    }
   ],
   "source": [
    "#print last 2 rows\n",
    "print(student_data.tail(2))"
   ]
  },
  {
   "cell_type": "code",
   "execution_count": 20,
   "id": "6a79b002-e2e7-42f4-b7dc-6e4556323c93",
   "metadata": {},
   "outputs": [
    {
     "name": "stdout",
     "output_type": "stream",
     "text": [
      "(100, 6)\n"
     ]
    }
   ],
   "source": [
    "#number of rows and columns\n",
    "print(student_data.shape) "
   ]
  },
  {
   "cell_type": "code",
   "execution_count": 21,
   "id": "80cbb2a4-2887-4e97-b504-818b99f51fbf",
   "metadata": {},
   "outputs": [
    {
     "name": "stdout",
     "output_type": "stream",
     "text": [
      "<class 'pandas.core.frame.DataFrame'>\n",
      "RangeIndex: 100 entries, 0 to 99\n",
      "Data columns (total 6 columns):\n",
      " #   Column      Non-Null Count  Dtype  \n",
      "---  ------      --------------  -----  \n",
      " 0   id          100 non-null    int64  \n",
      " 1   first_name  100 non-null    object \n",
      " 2   last_name   100 non-null    object \n",
      " 3   email       100 non-null    object \n",
      " 4   gender      100 non-null    object \n",
      " 5   grade       100 non-null    float64\n",
      "dtypes: float64(1), int64(1), object(4)\n",
      "memory usage: 4.8+ KB\n",
      "None\n"
     ]
    }
   ],
   "source": [
    "# summary\n",
    "print(student_data.info())"
   ]
  },
  {
   "cell_type": "code",
   "execution_count": 24,
   "id": "f64b27c3-973c-4dc6-a968-1e86458dff8a",
   "metadata": {},
   "outputs": [
    {
     "name": "stdout",
     "output_type": "stream",
     "text": [
      "               id       grade\n",
      "count  100.000000  100.000000\n",
      "mean    50.500000    5.484000\n",
      "std     29.011492    2.658918\n",
      "min      1.000000    1.000000\n",
      "25%     25.750000    3.325000\n",
      "50%     50.500000    5.400000\n",
      "75%     75.250000    8.000000\n",
      "max    100.000000   10.000000\n"
     ]
    }
   ],
   "source": [
    "# statistical data\n",
    "print(student_data.describe())"
   ]
  },
  {
   "cell_type": "code",
   "execution_count": 27,
   "id": "8a2890ac-1c8b-4573-bc34-4546c48381e1",
   "metadata": {},
   "outputs": [
    {
     "data": {
      "text/html": [
       "<div>\n",
       "<style scoped>\n",
       "    .dataframe tbody tr th:only-of-type {\n",
       "        vertical-align: middle;\n",
       "    }\n",
       "\n",
       "    .dataframe tbody tr th {\n",
       "        vertical-align: top;\n",
       "    }\n",
       "\n",
       "    .dataframe thead th {\n",
       "        text-align: right;\n",
       "    }\n",
       "</style>\n",
       "<table border=\"1\" class=\"dataframe\">\n",
       "  <thead>\n",
       "    <tr style=\"text-align: right;\">\n",
       "      <th></th>\n",
       "      <th>id</th>\n",
       "      <th>first_name</th>\n",
       "      <th>grade</th>\n",
       "    </tr>\n",
       "  </thead>\n",
       "  <tbody>\n",
       "    <tr>\n",
       "      <th>0</th>\n",
       "      <td>1</td>\n",
       "      <td>Reggie Margerrison</td>\n",
       "      <td>5.3</td>\n",
       "    </tr>\n",
       "    <tr>\n",
       "      <th>1</th>\n",
       "      <td>2</td>\n",
       "      <td>Jody Cossor</td>\n",
       "      <td>1.2</td>\n",
       "    </tr>\n",
       "    <tr>\n",
       "      <th>2</th>\n",
       "      <td>3</td>\n",
       "      <td>Anneliese Scrivner</td>\n",
       "      <td>6.5</td>\n",
       "    </tr>\n",
       "    <tr>\n",
       "      <th>3</th>\n",
       "      <td>4</td>\n",
       "      <td>Kippy Fishburn</td>\n",
       "      <td>6.1</td>\n",
       "    </tr>\n",
       "    <tr>\n",
       "      <th>4</th>\n",
       "      <td>5</td>\n",
       "      <td>Fritz Vasilmanov</td>\n",
       "      <td>8.2</td>\n",
       "    </tr>\n",
       "  </tbody>\n",
       "</table>\n",
       "</div>"
      ],
      "text/plain": [
       "   id          first_name  grade\n",
       "0   1  Reggie Margerrison    5.3\n",
       "1   2         Jody Cossor    1.2\n",
       "2   3  Anneliese Scrivner    6.5\n",
       "3   4      Kippy Fishburn    6.1\n",
       "4   5    Fritz Vasilmanov    8.2"
      ]
     },
     "execution_count": 27,
     "metadata": {},
     "output_type": "execute_result"
    }
   ],
   "source": [
    "student_data[['id','first_name','grade']].head()"
   ]
  },
  {
   "cell_type": "code",
   "execution_count": 28,
   "id": "816ef1ac-f21e-409b-b70e-1dac79bf1929",
   "metadata": {},
   "outputs": [
    {
     "data": {
      "text/plain": [
       "count    100.000000\n",
       "mean       5.484000\n",
       "std        2.658918\n",
       "min        1.000000\n",
       "25%        3.325000\n",
       "50%        5.400000\n",
       "75%        8.000000\n",
       "max       10.000000\n",
       "Name: grade, dtype: float64"
      ]
     },
     "execution_count": 28,
     "metadata": {},
     "output_type": "execute_result"
    }
   ],
   "source": [
    "student_data['grade'].describe() ##describe only for grade"
   ]
  },
  {
   "cell_type": "code",
   "execution_count": 32,
   "id": "e8a2b3b0-a7e7-4b3b-8287-4ff0e7b46468",
   "metadata": {},
   "outputs": [
    {
     "ename": "FileNotFoundError",
     "evalue": "[Errno 2] No such file or directory: 'order_data.csv'",
     "output_type": "error",
     "traceback": [
      "\u001b[1;31m---------------------------------------------------------------------------\u001b[0m",
      "\u001b[1;31mFileNotFoundError\u001b[0m                         Traceback (most recent call last)",
      "Cell \u001b[1;32mIn[32], line 2\u001b[0m\n\u001b[0;32m      1\u001b[0m \u001b[38;5;28;01mimport\u001b[39;00m\u001b[38;5;250m \u001b[39m\u001b[38;5;21;01mpandas\u001b[39;00m\u001b[38;5;250m \u001b[39m\u001b[38;5;28;01mas\u001b[39;00m\u001b[38;5;250m \u001b[39m\u001b[38;5;21;01mpd\u001b[39;00m\n\u001b[1;32m----> 2\u001b[0m df \u001b[38;5;241m=\u001b[39m \u001b[43mpd\u001b[49m\u001b[38;5;241;43m.\u001b[39;49m\u001b[43mread_csv\u001b[49m\u001b[43m(\u001b[49m\u001b[38;5;124;43m'\u001b[39;49m\u001b[38;5;124;43morder_data.csv\u001b[39;49m\u001b[38;5;124;43m'\u001b[39;49m\u001b[43m)\u001b[49m\n\u001b[0;32m      3\u001b[0m df[\u001b[38;5;124m'\u001b[39m\u001b[38;5;124mquantity\u001b[39m\u001b[38;5;124m'\u001b[39m]\u001b[38;5;241m.\u001b[39mfillna(\u001b[38;5;241m1\u001b[39m, inplace\u001b[38;5;241m=\u001b[39m\u001b[38;5;28;01mTrue\u001b[39;00m)\n\u001b[0;32m      4\u001b[0m df[\u001b[38;5;124m'\u001b[39m\u001b[38;5;124mtotal_amount\u001b[39m\u001b[38;5;124m'\u001b[39m] \u001b[38;5;241m=\u001b[39m df[\u001b[38;5;124m'\u001b[39m\u001b[38;5;124mprice\u001b[39m\u001b[38;5;124m'\u001b[39m] \u001b[38;5;241m*\u001b[39m df[\u001b[38;5;124m'\u001b[39m\u001b[38;5;124mquantity\u001b[39m\u001b[38;5;124m'\u001b[39m]\n",
      "File \u001b[1;32m~\\AppData\\Local\\Programs\\Python\\Python313\\Lib\\site-packages\\pandas\\io\\parsers\\readers.py:1026\u001b[0m, in \u001b[0;36mread_csv\u001b[1;34m(filepath_or_buffer, sep, delimiter, header, names, index_col, usecols, dtype, engine, converters, true_values, false_values, skipinitialspace, skiprows, skipfooter, nrows, na_values, keep_default_na, na_filter, verbose, skip_blank_lines, parse_dates, infer_datetime_format, keep_date_col, date_parser, date_format, dayfirst, cache_dates, iterator, chunksize, compression, thousands, decimal, lineterminator, quotechar, quoting, doublequote, escapechar, comment, encoding, encoding_errors, dialect, on_bad_lines, delim_whitespace, low_memory, memory_map, float_precision, storage_options, dtype_backend)\u001b[0m\n\u001b[0;32m   1013\u001b[0m kwds_defaults \u001b[38;5;241m=\u001b[39m _refine_defaults_read(\n\u001b[0;32m   1014\u001b[0m     dialect,\n\u001b[0;32m   1015\u001b[0m     delimiter,\n\u001b[1;32m   (...)\u001b[0m\n\u001b[0;32m   1022\u001b[0m     dtype_backend\u001b[38;5;241m=\u001b[39mdtype_backend,\n\u001b[0;32m   1023\u001b[0m )\n\u001b[0;32m   1024\u001b[0m kwds\u001b[38;5;241m.\u001b[39mupdate(kwds_defaults)\n\u001b[1;32m-> 1026\u001b[0m \u001b[38;5;28;01mreturn\u001b[39;00m \u001b[43m_read\u001b[49m\u001b[43m(\u001b[49m\u001b[43mfilepath_or_buffer\u001b[49m\u001b[43m,\u001b[49m\u001b[43m \u001b[49m\u001b[43mkwds\u001b[49m\u001b[43m)\u001b[49m\n",
      "File \u001b[1;32m~\\AppData\\Local\\Programs\\Python\\Python313\\Lib\\site-packages\\pandas\\io\\parsers\\readers.py:620\u001b[0m, in \u001b[0;36m_read\u001b[1;34m(filepath_or_buffer, kwds)\u001b[0m\n\u001b[0;32m    617\u001b[0m _validate_names(kwds\u001b[38;5;241m.\u001b[39mget(\u001b[38;5;124m\"\u001b[39m\u001b[38;5;124mnames\u001b[39m\u001b[38;5;124m\"\u001b[39m, \u001b[38;5;28;01mNone\u001b[39;00m))\n\u001b[0;32m    619\u001b[0m \u001b[38;5;66;03m# Create the parser.\u001b[39;00m\n\u001b[1;32m--> 620\u001b[0m parser \u001b[38;5;241m=\u001b[39m \u001b[43mTextFileReader\u001b[49m\u001b[43m(\u001b[49m\u001b[43mfilepath_or_buffer\u001b[49m\u001b[43m,\u001b[49m\u001b[43m \u001b[49m\u001b[38;5;241;43m*\u001b[39;49m\u001b[38;5;241;43m*\u001b[39;49m\u001b[43mkwds\u001b[49m\u001b[43m)\u001b[49m\n\u001b[0;32m    622\u001b[0m \u001b[38;5;28;01mif\u001b[39;00m chunksize \u001b[38;5;129;01mor\u001b[39;00m iterator:\n\u001b[0;32m    623\u001b[0m     \u001b[38;5;28;01mreturn\u001b[39;00m parser\n",
      "File \u001b[1;32m~\\AppData\\Local\\Programs\\Python\\Python313\\Lib\\site-packages\\pandas\\io\\parsers\\readers.py:1620\u001b[0m, in \u001b[0;36mTextFileReader.__init__\u001b[1;34m(self, f, engine, **kwds)\u001b[0m\n\u001b[0;32m   1617\u001b[0m     \u001b[38;5;28mself\u001b[39m\u001b[38;5;241m.\u001b[39moptions[\u001b[38;5;124m\"\u001b[39m\u001b[38;5;124mhas_index_names\u001b[39m\u001b[38;5;124m\"\u001b[39m] \u001b[38;5;241m=\u001b[39m kwds[\u001b[38;5;124m\"\u001b[39m\u001b[38;5;124mhas_index_names\u001b[39m\u001b[38;5;124m\"\u001b[39m]\n\u001b[0;32m   1619\u001b[0m \u001b[38;5;28mself\u001b[39m\u001b[38;5;241m.\u001b[39mhandles: IOHandles \u001b[38;5;241m|\u001b[39m \u001b[38;5;28;01mNone\u001b[39;00m \u001b[38;5;241m=\u001b[39m \u001b[38;5;28;01mNone\u001b[39;00m\n\u001b[1;32m-> 1620\u001b[0m \u001b[38;5;28mself\u001b[39m\u001b[38;5;241m.\u001b[39m_engine \u001b[38;5;241m=\u001b[39m \u001b[38;5;28;43mself\u001b[39;49m\u001b[38;5;241;43m.\u001b[39;49m\u001b[43m_make_engine\u001b[49m\u001b[43m(\u001b[49m\u001b[43mf\u001b[49m\u001b[43m,\u001b[49m\u001b[43m \u001b[49m\u001b[38;5;28;43mself\u001b[39;49m\u001b[38;5;241;43m.\u001b[39;49m\u001b[43mengine\u001b[49m\u001b[43m)\u001b[49m\n",
      "File \u001b[1;32m~\\AppData\\Local\\Programs\\Python\\Python313\\Lib\\site-packages\\pandas\\io\\parsers\\readers.py:1880\u001b[0m, in \u001b[0;36mTextFileReader._make_engine\u001b[1;34m(self, f, engine)\u001b[0m\n\u001b[0;32m   1878\u001b[0m     \u001b[38;5;28;01mif\u001b[39;00m \u001b[38;5;124m\"\u001b[39m\u001b[38;5;124mb\u001b[39m\u001b[38;5;124m\"\u001b[39m \u001b[38;5;129;01mnot\u001b[39;00m \u001b[38;5;129;01min\u001b[39;00m mode:\n\u001b[0;32m   1879\u001b[0m         mode \u001b[38;5;241m+\u001b[39m\u001b[38;5;241m=\u001b[39m \u001b[38;5;124m\"\u001b[39m\u001b[38;5;124mb\u001b[39m\u001b[38;5;124m\"\u001b[39m\n\u001b[1;32m-> 1880\u001b[0m \u001b[38;5;28mself\u001b[39m\u001b[38;5;241m.\u001b[39mhandles \u001b[38;5;241m=\u001b[39m \u001b[43mget_handle\u001b[49m\u001b[43m(\u001b[49m\n\u001b[0;32m   1881\u001b[0m \u001b[43m    \u001b[49m\u001b[43mf\u001b[49m\u001b[43m,\u001b[49m\n\u001b[0;32m   1882\u001b[0m \u001b[43m    \u001b[49m\u001b[43mmode\u001b[49m\u001b[43m,\u001b[49m\n\u001b[0;32m   1883\u001b[0m \u001b[43m    \u001b[49m\u001b[43mencoding\u001b[49m\u001b[38;5;241;43m=\u001b[39;49m\u001b[38;5;28;43mself\u001b[39;49m\u001b[38;5;241;43m.\u001b[39;49m\u001b[43moptions\u001b[49m\u001b[38;5;241;43m.\u001b[39;49m\u001b[43mget\u001b[49m\u001b[43m(\u001b[49m\u001b[38;5;124;43m\"\u001b[39;49m\u001b[38;5;124;43mencoding\u001b[39;49m\u001b[38;5;124;43m\"\u001b[39;49m\u001b[43m,\u001b[49m\u001b[43m \u001b[49m\u001b[38;5;28;43;01mNone\u001b[39;49;00m\u001b[43m)\u001b[49m\u001b[43m,\u001b[49m\n\u001b[0;32m   1884\u001b[0m \u001b[43m    \u001b[49m\u001b[43mcompression\u001b[49m\u001b[38;5;241;43m=\u001b[39;49m\u001b[38;5;28;43mself\u001b[39;49m\u001b[38;5;241;43m.\u001b[39;49m\u001b[43moptions\u001b[49m\u001b[38;5;241;43m.\u001b[39;49m\u001b[43mget\u001b[49m\u001b[43m(\u001b[49m\u001b[38;5;124;43m\"\u001b[39;49m\u001b[38;5;124;43mcompression\u001b[39;49m\u001b[38;5;124;43m\"\u001b[39;49m\u001b[43m,\u001b[49m\u001b[43m \u001b[49m\u001b[38;5;28;43;01mNone\u001b[39;49;00m\u001b[43m)\u001b[49m\u001b[43m,\u001b[49m\n\u001b[0;32m   1885\u001b[0m \u001b[43m    \u001b[49m\u001b[43mmemory_map\u001b[49m\u001b[38;5;241;43m=\u001b[39;49m\u001b[38;5;28;43mself\u001b[39;49m\u001b[38;5;241;43m.\u001b[39;49m\u001b[43moptions\u001b[49m\u001b[38;5;241;43m.\u001b[39;49m\u001b[43mget\u001b[49m\u001b[43m(\u001b[49m\u001b[38;5;124;43m\"\u001b[39;49m\u001b[38;5;124;43mmemory_map\u001b[39;49m\u001b[38;5;124;43m\"\u001b[39;49m\u001b[43m,\u001b[49m\u001b[43m \u001b[49m\u001b[38;5;28;43;01mFalse\u001b[39;49;00m\u001b[43m)\u001b[49m\u001b[43m,\u001b[49m\n\u001b[0;32m   1886\u001b[0m \u001b[43m    \u001b[49m\u001b[43mis_text\u001b[49m\u001b[38;5;241;43m=\u001b[39;49m\u001b[43mis_text\u001b[49m\u001b[43m,\u001b[49m\n\u001b[0;32m   1887\u001b[0m \u001b[43m    \u001b[49m\u001b[43merrors\u001b[49m\u001b[38;5;241;43m=\u001b[39;49m\u001b[38;5;28;43mself\u001b[39;49m\u001b[38;5;241;43m.\u001b[39;49m\u001b[43moptions\u001b[49m\u001b[38;5;241;43m.\u001b[39;49m\u001b[43mget\u001b[49m\u001b[43m(\u001b[49m\u001b[38;5;124;43m\"\u001b[39;49m\u001b[38;5;124;43mencoding_errors\u001b[39;49m\u001b[38;5;124;43m\"\u001b[39;49m\u001b[43m,\u001b[49m\u001b[43m \u001b[49m\u001b[38;5;124;43m\"\u001b[39;49m\u001b[38;5;124;43mstrict\u001b[39;49m\u001b[38;5;124;43m\"\u001b[39;49m\u001b[43m)\u001b[49m\u001b[43m,\u001b[49m\n\u001b[0;32m   1888\u001b[0m \u001b[43m    \u001b[49m\u001b[43mstorage_options\u001b[49m\u001b[38;5;241;43m=\u001b[39;49m\u001b[38;5;28;43mself\u001b[39;49m\u001b[38;5;241;43m.\u001b[39;49m\u001b[43moptions\u001b[49m\u001b[38;5;241;43m.\u001b[39;49m\u001b[43mget\u001b[49m\u001b[43m(\u001b[49m\u001b[38;5;124;43m\"\u001b[39;49m\u001b[38;5;124;43mstorage_options\u001b[39;49m\u001b[38;5;124;43m\"\u001b[39;49m\u001b[43m,\u001b[49m\u001b[43m \u001b[49m\u001b[38;5;28;43;01mNone\u001b[39;49;00m\u001b[43m)\u001b[49m\u001b[43m,\u001b[49m\n\u001b[0;32m   1889\u001b[0m \u001b[43m\u001b[49m\u001b[43m)\u001b[49m\n\u001b[0;32m   1890\u001b[0m \u001b[38;5;28;01massert\u001b[39;00m \u001b[38;5;28mself\u001b[39m\u001b[38;5;241m.\u001b[39mhandles \u001b[38;5;129;01mis\u001b[39;00m \u001b[38;5;129;01mnot\u001b[39;00m \u001b[38;5;28;01mNone\u001b[39;00m\n\u001b[0;32m   1891\u001b[0m f \u001b[38;5;241m=\u001b[39m \u001b[38;5;28mself\u001b[39m\u001b[38;5;241m.\u001b[39mhandles\u001b[38;5;241m.\u001b[39mhandle\n",
      "File \u001b[1;32m~\\AppData\\Local\\Programs\\Python\\Python313\\Lib\\site-packages\\pandas\\io\\common.py:873\u001b[0m, in \u001b[0;36mget_handle\u001b[1;34m(path_or_buf, mode, encoding, compression, memory_map, is_text, errors, storage_options)\u001b[0m\n\u001b[0;32m    868\u001b[0m \u001b[38;5;28;01melif\u001b[39;00m \u001b[38;5;28misinstance\u001b[39m(handle, \u001b[38;5;28mstr\u001b[39m):\n\u001b[0;32m    869\u001b[0m     \u001b[38;5;66;03m# Check whether the filename is to be opened in binary mode.\u001b[39;00m\n\u001b[0;32m    870\u001b[0m     \u001b[38;5;66;03m# Binary mode does not support 'encoding' and 'newline'.\u001b[39;00m\n\u001b[0;32m    871\u001b[0m     \u001b[38;5;28;01mif\u001b[39;00m ioargs\u001b[38;5;241m.\u001b[39mencoding \u001b[38;5;129;01mand\u001b[39;00m \u001b[38;5;124m\"\u001b[39m\u001b[38;5;124mb\u001b[39m\u001b[38;5;124m\"\u001b[39m \u001b[38;5;129;01mnot\u001b[39;00m \u001b[38;5;129;01min\u001b[39;00m ioargs\u001b[38;5;241m.\u001b[39mmode:\n\u001b[0;32m    872\u001b[0m         \u001b[38;5;66;03m# Encoding\u001b[39;00m\n\u001b[1;32m--> 873\u001b[0m         handle \u001b[38;5;241m=\u001b[39m \u001b[38;5;28;43mopen\u001b[39;49m\u001b[43m(\u001b[49m\n\u001b[0;32m    874\u001b[0m \u001b[43m            \u001b[49m\u001b[43mhandle\u001b[49m\u001b[43m,\u001b[49m\n\u001b[0;32m    875\u001b[0m \u001b[43m            \u001b[49m\u001b[43mioargs\u001b[49m\u001b[38;5;241;43m.\u001b[39;49m\u001b[43mmode\u001b[49m\u001b[43m,\u001b[49m\n\u001b[0;32m    876\u001b[0m \u001b[43m            \u001b[49m\u001b[43mencoding\u001b[49m\u001b[38;5;241;43m=\u001b[39;49m\u001b[43mioargs\u001b[49m\u001b[38;5;241;43m.\u001b[39;49m\u001b[43mencoding\u001b[49m\u001b[43m,\u001b[49m\n\u001b[0;32m    877\u001b[0m \u001b[43m            \u001b[49m\u001b[43merrors\u001b[49m\u001b[38;5;241;43m=\u001b[39;49m\u001b[43merrors\u001b[49m\u001b[43m,\u001b[49m\n\u001b[0;32m    878\u001b[0m \u001b[43m            \u001b[49m\u001b[43mnewline\u001b[49m\u001b[38;5;241;43m=\u001b[39;49m\u001b[38;5;124;43m\"\u001b[39;49m\u001b[38;5;124;43m\"\u001b[39;49m\u001b[43m,\u001b[49m\n\u001b[0;32m    879\u001b[0m \u001b[43m        \u001b[49m\u001b[43m)\u001b[49m\n\u001b[0;32m    880\u001b[0m     \u001b[38;5;28;01melse\u001b[39;00m:\n\u001b[0;32m    881\u001b[0m         \u001b[38;5;66;03m# Binary mode\u001b[39;00m\n\u001b[0;32m    882\u001b[0m         handle \u001b[38;5;241m=\u001b[39m \u001b[38;5;28mopen\u001b[39m(handle, ioargs\u001b[38;5;241m.\u001b[39mmode)\n",
      "\u001b[1;31mFileNotFoundError\u001b[0m: [Errno 2] No such file or directory: 'order_data.csv'"
     ]
    }
   ],
   "source": [
    "import pandas as pd\n",
    "df = pd.read_csv('order_data.csv')\n",
    "df['quantity'].fillna(1, inplace=True)\n",
    "df['total_amount'] = df['price'] * df['quantity']\n",
    "most_sold_product = df.groupby('product')['quantity'].sum().idxmax()\n",
    "total_sales_per_category = df.groupby('category')['total_amount'].sum()\n",
    "orders_above_5000 = df[df['total_amount'] > 5000]\n"
   ]
  },
  {
   "cell_type": "code",
   "execution_count": null,
   "id": "6523affa-6010-46ee-8d08-1b4a10751e50",
   "metadata": {},
   "outputs": [],
   "source": []
  }
 ],
 "metadata": {
  "kernelspec": {
   "display_name": "Python 3 (ipykernel)",
   "language": "python",
   "name": "python3"
  },
  "language_info": {
   "codemirror_mode": {
    "name": "ipython",
    "version": 3
   },
   "file_extension": ".py",
   "mimetype": "text/x-python",
   "name": "python",
   "nbconvert_exporter": "python",
   "pygments_lexer": "ipython3",
   "version": "3.13.2"
  }
 },
 "nbformat": 4,
 "nbformat_minor": 5
}
