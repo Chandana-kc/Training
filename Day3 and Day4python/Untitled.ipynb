{
 "cells": [
  {
   "cell_type": "code",
   "execution_count": 1,
   "id": "687ffc27-5325-4929-925b-4aa482a9cfd6",
   "metadata": {},
   "outputs": [
    {
     "name": "stdout",
     "output_type": "stream",
     "text": [
      "Hello World\n"
     ]
    }
   ],
   "source": [
    "print(\"Hello World\")"
   ]
  },
  {
   "cell_type": "code",
   "execution_count": 11,
   "id": "a821de90-c905-40aa-978e-f4f0c10bdb22",
   "metadata": {},
   "outputs": [
    {
     "name": "stdout",
     "output_type": "stream",
     "text": [
      "Number1:  10\n",
      "Number2 20.89\n",
      "Name:  Mind Sprint\n",
      "<class 'int'>\n",
      "<class 'int'>\n",
      "<class 'str'>\n"
     ]
    }
   ],
   "source": [
    "# Variables\n",
    "num1=10\n",
    "num2=20.89\n",
    "name=\"Mind Sprint\"\n",
    "\n",
    "print(\"Number1: \",num1)\n",
    "print(f\"Number2 {num2}\")\n",
    "print(\"Name: \",name)\n",
    "\n",
    "## data type\n",
    "print(type(num1))\n",
    "print(type(num1))\n",
    "print(type(name))"
   ]
  },
  {
   "cell_type": "code",
   "execution_count": 4,
   "id": "1c489b25-fcea-496d-a82b-3404fb567165",
   "metadata": {},
   "outputs": [
    {
     "name": "stdout",
     "output_type": "stream",
     "text": [
      "Orange Banana Cherry\n"
     ]
    }
   ],
   "source": [
    "X,Y,Z=\"Orange\",\"Banana\",\"Cherry\"\n",
    "print(X,Y,Z)"
   ]
  },
  {
   "cell_type": "code",
   "execution_count": 6,
   "id": "a21301e7-6918-468a-ad48-9aea61617b2c",
   "metadata": {},
   "outputs": [
    {
     "name": "stdout",
     "output_type": "stream",
     "text": [
      "Orange Orange Orange\n"
     ]
    }
   ],
   "source": [
    "X=Y=Z=\"Orange\"\n",
    "print(X,Y,Z)"
   ]
  },
  {
   "cell_type": "code",
   "execution_count": 8,
   "id": "fdd9ad80-8153-4815-9f69-119fe350ad37",
   "metadata": {},
   "outputs": [
    {
     "name": "stdout",
     "output_type": "stream",
     "text": [
      "apple Banana cherry\n",
      "apple\n",
      "appleBananacherry\n"
     ]
    }
   ],
   "source": [
    "fruits=[\"apple\",\"Banana\",\"cherry\"]\n",
    "X,Y,Z=fruits\n",
    "print(X,Y,Z)\n",
    "print(X)\n",
    "print(X+Y+Z)"
   ]
  },
  {
   "cell_type": "code",
   "execution_count": 9,
   "id": "aa61bcbf-8df4-4e3a-a2c1-503542393fa9",
   "metadata": {},
   "outputs": [
    {
     "name": "stdout",
     "output_type": "stream",
     "text": [
      "apple   Banana   cherry\n",
      "temp   temp   temp\n"
     ]
    }
   ],
   "source": [
    "## Value Assignments to Variables\n",
    "x,y,z=\"test1\",\"test2\",\"test3\"\n",
    "print(X,\" \",Y,\" \",Z)\n",
    "\n",
    "## Assign same values to munltiple variables\n",
    "p=q=r=\"temp\"\n",
    "print(p,\" \",r,\" \",q)"
   ]
  },
  {
   "cell_type": "code",
   "execution_count": 14,
   "id": "197f390a-01ce-40e8-a45a-de2a8541458c",
   "metadata": {},
   "outputs": [
    {
     "name": "stdin",
     "output_type": "stream",
     "text": [
      "Enter the First  number 45\n",
      "Enter the second number 3\n"
     ]
    },
    {
     "name": "stdout",
     "output_type": "stream",
     "text": [
      "Addition:  48\n"
     ]
    }
   ],
   "source": [
    "# Taking input from user\n",
    "num1=input(\"Enter the First  number\")\n",
    "num2=input(\"Enter the second number\")\n",
    "\n",
    "n1=int(num1)\n",
    "n2=int(num2)\n",
    "\n",
    "\n",
    "print(\"Addition: \",n1+n2)\n",
    "\n"
   ]
  },
  {
   "cell_type": "code",
   "execution_count": 17,
   "id": "f8070531-8498-44fd-8594-d19cbd5d507d",
   "metadata": {},
   "outputs": [
    {
     "name": "stdout",
     "output_type": "stream",
     "text": [
      "Addition: 30\n",
      "Subtraction: -10\n",
      "Multiplication: 200\n",
      "Division: 0.5\n",
      "Modulus: 10\n",
      "Exponentiation: 100000000000000000000\n",
      "Floor Division: 0\n"
     ]
    }
   ],
   "source": [
    "num1=10\n",
    "num2=20\n",
    "addition=num1+num2\n",
    "print(\"Addition:\" ,addition)\n",
    "\n",
    "Subtraction = num1-num2\n",
    "print(\"Subtraction:\" ,Subtraction)\n",
    "\n",
    "multiplication=num1*num2\n",
    "print(\"Multiplication:\" ,multiplication)\n",
    "\n",
    "Division=num1/num2\n",
    "print(\"Division:\" ,Division)\n",
    "\n",
    "modulus = num1%num2\n",
    "print(\"Modulus:\" ,modulus)\n",
    "\n",
    "Exponentiation = num1**num2\n",
    "print(\"Exponentiation:\" , Exponentiation)\n",
    "\n",
    "floor_division=num1//num2\n",
    "print(\"Floor Division:\",floor_division)"
   ]
  },
  {
   "cell_type": "code",
   "execution_count": 18,
   "id": "f0179fed-b73e-4290-a3c4-019834ddb2af",
   "metadata": {},
   "outputs": [
    {
     "name": "stdout",
     "output_type": "stream",
     "text": [
      "Is num1 equal to num2? False\n",
      "Is num1 not equal to num2? True\n",
      "Is num1 greater than  num2? False\n",
      "Is num1 less than num2? True\n",
      "Is num1 greater than or equal to num2? False\n",
      "Is num1 lesser than or equal to num2? True\n"
     ]
    }
   ],
   "source": [
    "num1=50\n",
    "num2=80\n",
    "print(\"Is num1 equal to num2?\" , num1==num2)\n",
    "\n",
    "print(\"Is num1 not equal to num2?\" , num1 != num2)\n",
    "\n",
    "print(\"Is num1 greater than  num2?\" , num1 > num2)\n",
    "\n",
    "print(\"Is num1 less than num2?\" , num1 < num2)\n",
    "\n",
    "print(\"Is num1 greater than or equal to num2?\" , num1 >= num2)\n",
    "\n",
    "print(\"Is num1 lesser than or equal to num2?\" , num1 <= num2)\n",
    "\n",
    "\n"
   ]
  },
  {
   "cell_type": "code",
   "execution_count": 19,
   "id": "38ffa74b-79be-4a8d-9ee6-b46baa1f80fa",
   "metadata": {},
   "outputs": [
    {
     "name": "stdout",
     "output_type": "stream",
     "text": [
      "Initial value:  10\n",
      "After increment:  15\n",
      "After decrement:  -3\n",
      "After munltiplication:  -6\n",
      "after exponent:  36\n"
     ]
    }
   ],
   "source": [
    "num=10\n",
    "print(\"Initial value: \",num)\n",
    "num+=5\n",
    "print(\"After increment: \",num)\n",
    "num=-3\n",
    "print(\"After decrement: \",num)\n",
    "num*=2\n",
    "print(\"After munltiplication: \",num)\n",
    "num**=2\n",
    "print(\"after exponent: \",num)"
   ]
  },
  {
   "cell_type": "code",
   "execution_count": 20,
   "id": "b31bed50-4176-4fd3-8c59-d62c19daa6ec",
   "metadata": {},
   "outputs": [
    {
     "name": "stdin",
     "output_type": "stream",
     "text": [
      "Enter your Email admin@gmail.com\n",
      "Enteryour password admin@123\n"
     ]
    },
    {
     "name": "stdout",
     "output_type": "stream",
     "text": [
      "True\n"
     ]
    }
   ],
   "source": [
    "email=input(\"Enter your Email\")\n",
    "password=input(\"Enteryour password\")\n",
    "print(email==\"admin@gmail.com\" and password==\"admin@123\")"
   ]
  },
  {
   "cell_type": "code",
   "execution_count": 21,
   "id": "87c05026-2de1-458e-87ff-8593ac1de580",
   "metadata": {},
   "outputs": [
    {
     "name": "stdin",
     "output_type": "stream",
     "text": [
      "Enter your Email chandam@gmail.com\n",
      "Enteryour password cggah123\n"
     ]
    },
    {
     "name": "stdout",
     "output_type": "stream",
     "text": [
      "False\n"
     ]
    }
   ],
   "source": [
    "email=input(\"Enter your Email\")\n",
    "password=input(\"Enteryour password\")\n",
    "print(email==\"admin@gmail.com\" or password==\"admin@123\")"
   ]
  },
  {
   "cell_type": "code",
   "execution_count": 23,
   "id": "04ce76f7-41f7-44e0-827f-7ccc33dd8661",
   "metadata": {},
   "outputs": [
    {
     "name": "stdout",
     "output_type": "stream",
     "text": [
      "positive number\n"
     ]
    }
   ],
   "source": [
    "num=10\n",
    "if num > 0:\n",
    "    print(\"positive number\")"
   ]
  },
  {
   "cell_type": "code",
   "execution_count": 24,
   "id": "285fd273-1248-4b5f-b659-b8dab52ff594",
   "metadata": {},
   "outputs": [
    {
     "name": "stdout",
     "output_type": "stream",
     "text": [
      "Negative number\n"
     ]
    }
   ],
   "source": [
    "num= -5\n",
    "if num >0:\n",
    "    print(\"Positive number\")\n",
    "else:\n",
    "    print(\"Negative number\")\n"
   ]
  },
  {
   "cell_type": "code",
   "execution_count": 25,
   "id": "a106f506-b9ba-4f77-933e-de3fc7de702b",
   "metadata": {},
   "outputs": [
    {
     "name": "stdout",
     "output_type": "stream",
     "text": [
      "Positive\n"
     ]
    }
   ],
   "source": [
    "# Ternary (shorthand) if statement\n",
    "num = 5\n",
    "print(\"Positive\") if num>0 else print(\"negative\")"
   ]
  },
  {
   "cell_type": "code",
   "execution_count": 26,
   "id": "1bf27f85-5f3b-4720-899d-d7501e663923",
   "metadata": {},
   "outputs": [
    {
     "name": "stdout",
     "output_type": "stream",
     "text": [
      "positive and odd number\n"
     ]
    }
   ],
   "source": [
    "# Nested if\n",
    "num=15\n",
    "if num>0:\n",
    "    if num % 2== 0:\n",
    "        print(\"Positive and even number\")\n",
    "    else:\n",
    "        print(\"positive and odd number\")\n",
    "else:\n",
    "    print(\"Non Positive Number\")"
   ]
  },
  {
   "cell_type": "code",
   "execution_count": 27,
   "id": "8cfe354a-743a-468b-9629-a87a02a97bde",
   "metadata": {},
   "outputs": [],
   "source": [
    "# Pass Statement\n",
    "\n",
    "num = 5\n",
    "if num > 0:\n",
    "    pass\n",
    "else:\n",
    "    print(\"This won't execute\")"
   ]
  },
  {
   "cell_type": "code",
   "execution_count": 33,
   "id": "7e4f1a47-56a0-41db-8bed-318a06e5f53b",
   "metadata": {},
   "outputs": [
    {
     "name": "stdin",
     "output_type": "stream",
     "text": [
      "Enter marks: 100\n"
     ]
    },
    {
     "name": "stdout",
     "output_type": "stream",
     "text": [
      "Congratulations!! Grade A\n"
     ]
    }
   ],
   "source": [
    "marks=int(input(\"Enter marks:\"))\n",
    "if marks>=90 and marks<=100:\n",
    "    print(\"Congratulations!! Grade A\")\n",
    "elif marks>=70 and marks<89:\n",
    "    print(\"Grade B\")\n",
    "elif marks >=50 and marks<69:\n",
    "    print(\"Grade C\")\n",
    "else:\n",
    "    print(\"Fail\")\n",
    "\n",
    "           "
   ]
  },
  {
   "cell_type": "code",
   "execution_count": 38,
   "id": "b6918234-5969-4f82-ba76-2865cae4f61e",
   "metadata": {},
   "outputs": [
    {
     "name": "stdin",
     "output_type": "stream",
     "text": [
      "Enter the number 28\n"
     ]
    },
    {
     "name": "stdout",
     "output_type": "stream",
     "text": [
      "even number\n"
     ]
    }
   ],
   "source": [
    "num=int(input(\"Enter the number\"))\n",
    "if num>0:\n",
    "    if num % 2== 0:\n",
    "        print(\"even number\")\n",
    "    else:\n",
    "        print(\"odd number\")\n",
    "elif num<0:\n",
    "    print(\"Negative number\")\n",
    "    \n",
    "else:\n",
    "    print(\"Zero\")"
   ]
  },
  {
   "cell_type": "code",
   "execution_count": 39,
   "id": "be0015b1-1172-43ae-a45c-edf496b5d71e",
   "metadata": {},
   "outputs": [
    {
     "name": "stdin",
     "output_type": "stream",
     "text": [
      "total mrp 800\n"
     ]
    },
    {
     "name": "stdout",
     "output_type": "stream",
     "text": [
      "Total Discount given 20 %\n",
      "You saved 160.0\n",
      "final amount 640.0\n"
     ]
    }
   ],
   "source": [
    "mrp=int(input('total mrp'))\n",
    "discount=0\n",
    "if mrp>=500:\n",
    "    discount=20\n",
    "elif 200>=mrp <500:\n",
    "    discount=10\n",
    "discount_price=mrp*discount/100\n",
    "final_amount=mrp-discount_price\n",
    "print(\"Total Discount given\" ,discount,'%')\n",
    "print(\"You saved\",discount_price)\n",
    "print(\"final amount\",final_amount)"
   ]
  },
  {
   "cell_type": "code",
   "execution_count": 40,
   "id": "51073b69-0704-4d28-bba6-e01e0ae41a20",
   "metadata": {},
   "outputs": [
    {
     "name": "stdout",
     "output_type": "stream",
     "text": [
      "Count: 1\n",
      "Count: 2\n",
      "Count: 3\n",
      "Count: 4\n",
      "Count: 5\n"
     ]
    }
   ],
   "source": [
    "#While loop\n",
    "\n",
    "count=1\n",
    "while count<=5:\n",
    "    print(\"Count:\",count)\n",
    "    count += 1"
   ]
  },
  {
   "cell_type": "code",
   "execution_count": 41,
   "id": "59760bd9-88fc-43bf-bbc2-3d280c8e4ae5",
   "metadata": {},
   "outputs": [
    {
     "name": "stdout",
     "output_type": "stream",
     "text": [
      "Number: 1\n",
      "Number: 2\n",
      "Number: 3\n",
      "Number: 4\n",
      "Number: 5\n"
     ]
    }
   ],
   "source": [
    "for num in range(1,6):\n",
    "    print(\"Number:\",num)"
   ]
  },
  {
   "cell_type": "code",
   "execution_count": 42,
   "id": "dd49bac1-442e-4026-87b7-bf8e99ea6934",
   "metadata": {},
   "outputs": [
    {
     "name": "stdout",
     "output_type": "stream",
     "text": [
      "Count is 0\n",
      "Count is 1\n",
      "Count is 2\n",
      "Breaking at count = 3\n"
     ]
    }
   ],
   "source": [
    "# while with break\n",
    "count=0\n",
    "while count < 5:\n",
    "    if count == 3:\n",
    "        print(\"Breaking at count =\" ,count)\n",
    "        break\n",
    "    print(\"Count is\",count)\n",
    "    count +=1"
   ]
  },
  {
   "cell_type": "code",
   "execution_count": 43,
   "id": "c605cfd1-69e5-4b1b-a670-083b98fd486a",
   "metadata": {},
   "outputs": [
    {
     "name": "stdout",
     "output_type": "stream",
     "text": [
      "Number: 1\n",
      "Number: 2\n",
      "Number: 3\n",
      "Number: 4\n",
      "Breaking at number: 5\n"
     ]
    }
   ],
   "source": [
    "# for with break\n",
    "for num in range(1,11):\n",
    "    if num == 5:\n",
    "        print(\"Breaking at number:\", num)\n",
    "        break\n",
    "    print(\"Number:\",num)"
   ]
  },
  {
   "cell_type": "code",
   "execution_count": 47,
   "id": "9c119edf-dcbc-4fc5-845f-3939b66ca4ae",
   "metadata": {},
   "outputs": [
    {
     "name": "stdin",
     "output_type": "stream",
     "text": [
      "Enter the first number 2\n",
      "Enter the Second Number 10\n"
     ]
    },
    {
     "name": "stdout",
     "output_type": "stream",
     "text": [
      "30\n"
     ]
    }
   ],
   "source": [
    "num1=int(input(\"Enter the first number\"))\n",
    "num2=int(input(\"Enter the Second Number\"))\n",
    "sum=0\n",
    "for i in range(num1,num2+1):\n",
    "    if i % 2==0:\n",
    "        sum+=i\n",
    "print(sum)"
   ]
  },
  {
   "cell_type": "code",
   "execution_count": null,
   "id": "aa2787ea-8c7f-48b4-b6f9-da28e948c105",
   "metadata": {},
   "outputs": [],
   "source": [
    "for i in range (1,6):"
   ]
  },
  {
   "cell_type": "code",
   "execution_count": 48,
   "id": "fb6ffcca-c89f-493e-809e-bff8baa70bce",
   "metadata": {},
   "outputs": [
    {
     "name": "stdout",
     "output_type": "stream",
     "text": [
      "Hello World\n"
     ]
    }
   ],
   "source": [
    "def hello():\n",
    "    print(\"Hello World\")\n",
    "hello()"
   ]
  },
  {
   "cell_type": "code",
   "execution_count": 50,
   "id": "4de79077-3b18-4cae-ab7e-284ead6637ba",
   "metadata": {},
   "outputs": [
    {
     "name": "stdout",
     "output_type": "stream",
     "text": [
      "Good Noon: Chandana \n"
     ]
    }
   ],
   "source": [
    "def greet(name):\n",
    "    print(\"Good Noon:\",name)\n",
    "greet(\"Chandana \")"
   ]
  },
  {
   "cell_type": "code",
   "execution_count": 51,
   "id": "915058d4-fbee-4b53-a4a2-bfddeb2f5fc0",
   "metadata": {},
   "outputs": [
    {
     "name": "stdout",
     "output_type": "stream",
     "text": [
      "The Sum of 5 and 3 is 8\n"
     ]
    }
   ],
   "source": [
    "# Multiple parameters\n",
    "def add_numbers(a,b):\n",
    "    result=a+b\n",
    "    print(f\"The Sum of {a} and {b} is {result}\")\n",
    "\n",
    "add_numbers(5,3)"
   ]
  },
  {
   "cell_type": "code",
   "execution_count": 53,
   "id": "6e0b1570-09c3-4394-9795-e996d94f08fe",
   "metadata": {},
   "outputs": [
    {
     "name": "stdout",
     "output_type": "stream",
     "text": [
      "Hello, Alice!\n",
      "Hello, Guest!\n"
     ]
    }
   ],
   "source": [
    "# Default parameter\n",
    "def greet(name=\"Guest\"):\n",
    "    print(f\"Hello, {name}!\")\n",
    "\n",
    "greet(\"Alice\")\n",
    "greet()   "
   ]
  },
  {
   "cell_type": "code",
   "execution_count": 52,
   "id": "c7eb8010-2446-455a-bbcd-28c69a982df8",
   "metadata": {},
   "outputs": [
    {
     "name": "stdout",
     "output_type": "stream",
     "text": [
      "The Product is :  20\n"
     ]
    }
   ],
   "source": [
    "def multiply_number(a,b):\n",
    "    return a*b\n",
    "result = multiply_number(4,5)\n",
    "print(\"The Product is : \",result)"
   ]
  },
  {
   "cell_type": "code",
   "execution_count": 54,
   "id": "4173822a-3970-4089-bd06-f2e9e7faab8b",
   "metadata": {},
   "outputs": [
    {
     "name": "stdout",
     "output_type": "stream",
     "text": [
      "charan is 20 years old and lives in Mysore.\n"
     ]
    }
   ],
   "source": [
    "# Passing arguments using keywords\n",
    "def describe_person(name,age,city):\n",
    "    print(f\"{name} is {age} years old and lives in {city}.\")\n",
    "# calling using keyword arguments\n",
    "describe_person(age=20,city=\"Mysore\" ,name=\"charan\")"
   ]
  },
  {
   "cell_type": "code",
   "execution_count": 55,
   "id": "db64ff1c-8124-4a8e-b860-257f1505bdc0",
   "metadata": {},
   "outputs": [
    {
     "name": "stdout",
     "output_type": "stream",
     "text": [
      "Factorial of 5 is: 120\n"
     ]
    }
   ],
   "source": [
    "def factorial(n):\n",
    "    if n == 1:\n",
    "        return 1\n",
    "    else:\n",
    "        return n * factorial(n -1)\n",
    " \n",
    "result = factorial(5)\n",
    "print(\"Factorial of 5 is:\", result)"
   ]
  },
  {
   "cell_type": "code",
   "execution_count": 59,
   "id": "3ddf5210-4832-495c-ab07-03b6a1dbccdf",
   "metadata": {},
   "outputs": [
    {
     "name": "stdin",
     "output_type": "stream",
     "text": [
      "Enter the user id bob\n",
      "Enter the password 1234\n"
     ]
    },
    {
     "name": "stdout",
     "output_type": "stream",
     "text": [
      "Invalid user_id\n"
     ]
    }
   ],
   "source": [
    "def account(user_id,password):\n",
    "    if user_id == \"Bob\" and password ==1234:\n",
    "        print(\"Login Successful\")\n",
    "    else:\n",
    "        print(\"Invalid user_id\")\n",
    "user_id=input(\"Enter the user id\")\n",
    "password=input(\"Enter the password\")\n",
    "account(user_id,password)\n",
    "    "
   ]
  },
  {
   "cell_type": "code",
   "execution_count": 10,
   "id": "2bc2dfc4-e10e-4b3a-9bca-801d8819382a",
   "metadata": {},
   "outputs": [
    {
     "name": "stdout",
     "output_type": "stream",
     "text": [
      "[10, 20, 30, 40]\n",
      "30\n",
      "[10, 20, 30, 40, 60]\n",
      "[10, 20, 25, 30, 40, 60]\n",
      "60 Removed\n",
      "5\n",
      "Minimum Value 10\n",
      "Maximum Value 40\n",
      "125\n"
     ]
    }
   ],
   "source": [
    "#List\n",
    "mylist = [10,20,30,40]\n",
    "print(mylist)\n",
    "print(mylist[2])\n",
    "mylist.append(60)\n",
    "print(mylist)\n",
    "#insert element at some index\n",
    "mylist.insert(2,25)\n",
    "print(mylist)\n",
    "#Data Removal\n",
    "data=mylist.pop() ## its removing last element which you save in some variable\n",
    "print(data, \"Removed\")\n",
    "print(len(mylist)) # checking Length\n",
    "print(\"Minimum Value\", min(mylist))\n",
    "print(\"Maximum Value\", max(mylist))\n",
    "print(sum(mylist))"
   ]
  },
  {
   "cell_type": "code",
   "execution_count": 74,
   "id": "b4bc0567-e01d-47df-b771-a3dbdc741717",
   "metadata": {},
   "outputs": [
    {
     "name": "stdout",
     "output_type": "stream",
     "text": [
      "1\n",
      "2\n",
      "3\n",
      "4\n",
      "5\n",
      "6\n",
      "7\n",
      "8\n",
      "9\n",
      "using while loop\n",
      "1\n",
      "2\n",
      "3\n",
      "4\n",
      "5\n",
      "6\n",
      "7\n",
      "8\n",
      "9\n"
     ]
    }
   ],
   "source": [
    "mydata=[1,2,3,4,5,6,7,8,9]\n",
    "for num in mydata:\n",
    "    print(num)\n",
    "print(\"using \n",
    "\n",
    "i=0\n",
    "while i<len(mydata):\n",
    "    print(mydata[i])\n",
    "    i+=1"
   ]
  },
  {
   "cell_type": "code",
   "execution_count": 75,
   "id": "7f94e18e-0d34-41f4-be2f-025a700c1488",
   "metadata": {},
   "outputs": [
    {
     "name": "stdout",
     "output_type": "stream",
     "text": [
      "[9, 8, 7, 6, 5, 4, 3, 2, 1]\n"
     ]
    }
   ],
   "source": [
    "mydata.sort(reverse=True)\n",
    "print(mydata)\n"
   ]
  },
  {
   "cell_type": "code",
   "execution_count": 76,
   "id": "1a995fd8-7d14-442e-879d-19cf7025d19d",
   "metadata": {},
   "outputs": [
    {
     "name": "stdout",
     "output_type": "stream",
     "text": [
      "[1, 2, 3, 4, 5, 6, 7, 8, 9]\n"
     ]
    }
   ],
   "source": [
    "mydata.reverse()\n",
    "print(mydata)"
   ]
  },
  {
   "cell_type": "code",
   "execution_count": 77,
   "id": "bed787d5-4ed6-478d-b3da-58915aa4f6aa",
   "metadata": {},
   "outputs": [
    {
     "name": "stdout",
     "output_type": "stream",
     "text": [
      "20 is in the list\n",
      "[10, 20, 30, 40]\n",
      "[40, 30, 20, 10]\n"
     ]
    }
   ],
   "source": [
    "numbers=[10,20,30,40]\n",
    "if 20 in numbers:\n",
    "    print(\"20 is in the list\")\n",
    "# Sort\n",
    "numbers.sort()\n",
    "print(numbers)\n",
    "\n",
    "# Reverse\n",
    "numbers.sort(reverse=True)\n",
    "print(numbers)"
   ]
  },
  {
   "cell_type": "code",
   "execution_count": 91,
   "id": "c05cc3fd-8e7b-4e0e-915a-5c16efeda4d9",
   "metadata": {},
   "outputs": [
    {
     "name": "stdout",
     "output_type": "stream",
     "text": [
      "\n",
      "To-Do List Menu:\n",
      "1. Add a to-do\n",
      "2. Remove a to-do\n",
      "3. View all to-dos\n",
      "4. Exit\n"
     ]
    },
    {
     "name": "stdin",
     "output_type": "stream",
     "text": [
      "Enter your choice (1-4):  4\n"
     ]
    },
    {
     "name": "stdout",
     "output_type": "stream",
     "text": [
      "Exiting the to-do list program.\n"
     ]
    }
   ],
   "source": [
    "todo_list = []\n",
    " \n",
    " \n",
    "def add_todo():\n",
    "    todo = input(\"Enter a to-do item: \")\n",
    "    todo_list.append(todo)\n",
    "    print(f'To-do \"{todo}\" added.')\n",
    " \n",
    "def remove_todo():\n",
    "    todo = input(\"Enter the to-do item to remove: \")\n",
    "    if todo in todo_list:\n",
    "        todo_list.remove(todo)\n",
    "        print(f'To-do \"{todo}\" removed.')\n",
    "    else:\n",
    "        print(f'To-do \"{todo}\" not found.')\n",
    " \n",
    "def get_all_todos():\n",
    "    return todo_list\n",
    " \n",
    "def menu():\n",
    "    while True:\n",
    "        print(\"\\nTo-Do List Menu:\")\n",
    "        print(\"1. Add a to-do\")\n",
    "        print(\"2. Remove a to-do\")\n",
    "        print(\"3. View all to-dos\")\n",
    "        print(\"4. Exit\")\n",
    "        choice = input(\"Enter your choice (1-4): \")\n",
    " \n",
    "        if choice == '1':\n",
    "            add_todo()\n",
    "        elif choice == '2':\n",
    "            remove_todo()\n",
    "        elif choice == '3':\n",
    "            print(\"Current to-dos:\", get_all_todos())\n",
    "        elif choice == '4':\n",
    "            print(\"Exiting the to-do list program.\")\n",
    "            break\n",
    "        else:\n",
    "            print(\"Invalid choice. Please enter a number between 1 and 4.\")\n",
    " \n",
    " \n",
    "menu()"
   ]
  },
  {
   "cell_type": "code",
   "execution_count": 9,
   "id": "815991ee-37f8-4649-bb41-af31c68b383f",
   "metadata": {},
   "outputs": [
    {
     "name": "stdout",
     "output_type": "stream",
     "text": [
      "15\n"
     ]
    }
   ],
   "source": [
    "list=[1,2,3,4,5]\n",
    "print(sum(list))"
   ]
  },
  {
   "cell_type": "code",
   "execution_count": 34,
   "id": "5d79a89e-331d-45a6-9363-6abe47ab2e5a",
   "metadata": {},
   "outputs": [
    {
     "name": "stdout",
     "output_type": "stream",
     "text": [
      "('alex', 'bob', 'catty', 'devid')\n",
      "('test', True, 78, 3.14, [2, 3, 4])\n",
      "()\n",
      "('hell',)\n",
      "<class 'tuple'>\n",
      "Access values bob\n",
      "Access values devid\n",
      "Access values ('alex', 'bob', 'catty')\n",
      "('alex', 'bob', 'catty', 'devid')\n"
     ]
    },
    {
     "ename": "AttributeError",
     "evalue": "'tuple' object has no attribute 'append'",
     "output_type": "error",
     "traceback": [
      "\u001b[1;31m---------------------------------------------------------------------------\u001b[0m",
      "\u001b[1;31mAttributeError\u001b[0m                            Traceback (most recent call last)",
      "Cell \u001b[1;32mIn[34], line 33\u001b[0m\n\u001b[0;32m     29\u001b[0m \u001b[38;5;66;03m##name = list(name)\u001b[39;00m\n\u001b[0;32m     31\u001b[0m \u001b[38;5;28mprint\u001b[39m(name)\n\u001b[1;32m---> 33\u001b[0m \u001b[43mname\u001b[49m\u001b[38;5;241;43m.\u001b[39;49m\u001b[43mappend\u001b[49m(\u001b[38;5;124m'\u001b[39m\u001b[38;5;124mella\u001b[39m\u001b[38;5;124m'\u001b[39m)\n\u001b[0;32m     34\u001b[0m name \u001b[38;5;241m=\u001b[39m \u001b[38;5;28mtuple\u001b[39m(name)\n\u001b[0;32m     35\u001b[0m \u001b[38;5;28mprint\u001b[39m(name)\n",
      "\u001b[1;31mAttributeError\u001b[0m: 'tuple' object has no attribute 'append'"
     ]
    }
   ],
   "source": [
    "name=('alex','bob','catty','devid')\n",
    "\n",
    "print(name)\n",
    " \n",
    "mixed=('test',True,78,3.14,[2,3,4])\n",
    "\n",
    "print(mixed)\n",
    " \n",
    "#Empty tuple\n",
    "\n",
    "empty_tup=()\n",
    "\n",
    "print(empty_tup)\n",
    "\n",
    "#tupe with single value\n",
    "\n",
    "data = ('hell',) #, is mandatory\n",
    "\n",
    "print(data)\n",
    "\n",
    "print(type(data))\n",
    " \n",
    "print('Access values',name[1])\n",
    "\n",
    "print('Access values',name[-1])\n",
    "\n",
    "print('Access values',name[0:3])\n",
    "\n",
    "##name = list(name)\n",
    "\n",
    "print(name)\n",
    "\n",
    "name.append('ella')\n",
    "name = tuple(name)\n",
    "print(name)\n",
    " "
   ]
  },
  {
   "cell_type": "code",
   "execution_count": 33,
   "id": "c69c3965-abc3-4e83-a95d-396739e4ea27",
   "metadata": {},
   "outputs": [
    {
     "ename": "TypeError",
     "evalue": "'list' object is not callable",
     "output_type": "error",
     "traceback": [
      "\u001b[1;31m---------------------------------------------------------------------------\u001b[0m",
      "\u001b[1;31mTypeError\u001b[0m                                 Traceback (most recent call last)",
      "Cell \u001b[1;32mIn[33], line 2\u001b[0m\n\u001b[0;32m      1\u001b[0m number_tuple \u001b[38;5;241m=\u001b[39m (\u001b[38;5;241m10\u001b[39m, \u001b[38;5;241m20\u001b[39m, \u001b[38;5;241m30\u001b[39m)\n\u001b[1;32m----> 2\u001b[0m number_list \u001b[38;5;241m=\u001b[39m \u001b[38;5;28;43mlist\u001b[39;49m\u001b[43m(\u001b[49m\u001b[43mnumber_tuple\u001b[49m\u001b[43m)\u001b[49m\n\u001b[0;32m      4\u001b[0m number_list\u001b[38;5;241m.\u001b[39mappend(\u001b[38;5;241m40\u001b[39m)\n\u001b[0;32m      6\u001b[0m number_tuple \u001b[38;5;241m=\u001b[39m \u001b[38;5;28mtuple\u001b[39m(number_list)\n",
      "\u001b[1;31mTypeError\u001b[0m: 'list' object is not callable"
     ]
    }
   ],
   "source": [
    "number_tuple = (10, 20, 30)\n",
    "number_list = list(number_tuple)\n",
    "\n",
    "number_list.append(40)\n",
    "\n",
    "number_tuple = tuple(number_list)\n",
    "print(number_tuple)\n"
   ]
  },
  {
   "cell_type": "code",
   "execution_count": 96,
   "id": "3c3f473b-09f7-4453-bc5c-8cffd360ff08",
   "metadata": {},
   "outputs": [
    {
     "name": "stdout",
     "output_type": "stream",
     "text": [
      "(1, 2, 3, 4, 5, 6)\n",
      "('temp', 'temp', 'temp', 'temp')\n"
     ]
    }
   ],
   "source": [
    "tuple1=(1,2,3)\n",
    "tuple2=(4,5,6)\n",
    "concat=tuple1+tuple2\n",
    "print(concat)\n",
    "\n",
    "new_tuple=(\"temp\",)*4\n",
    "print(new_tuple)"
   ]
  },
  {
   "cell_type": "code",
   "execution_count": 1,
   "id": "3a2d8199-79d8-4232-9029-b791d4147ee0",
   "metadata": {},
   "outputs": [
    {
     "name": "stdout",
     "output_type": "stream",
     "text": [
      "(10, 20, 30, 40)\n"
     ]
    }
   ],
   "source": [
    "number_tuples = (10, 20, 30)\n",
    "number_list = list(number_tuples)\n",
    "\n",
    "number_list.append(40)\n",
    "\n",
    "number_tuples = tuple(number_list)\n",
    "print(number_tuples)\n"
   ]
  },
  {
   "cell_type": "code",
   "execution_count": 2,
   "id": "c6e6094b-330e-4e97-8ff2-099f046c32be",
   "metadata": {},
   "outputs": [
    {
     "name": "stdout",
     "output_type": "stream",
     "text": [
      "1\n",
      "2\n"
     ]
    }
   ],
   "source": [
    "list=[1,2,3,4,5,6,8]\n",
    "print(list.count(3))\n",
    "\n",
    "print(list.index(3))"
   ]
  },
  {
   "cell_type": "code",
   "execution_count": 7,
   "id": "799ddd6b-d07d-44f3-b130-8c4e5bfccad1",
   "metadata": {},
   "outputs": [
    {
     "name": "stdout",
     "output_type": "stream",
     "text": [
      "{'eid': 1001, 'name': 'john Doe', 'department': 'I.T', 'salary': 45678}\n",
      "Employee Id 1001\n",
      "Employee Name: john Doe\n"
     ]
    }
   ],
   "source": [
    "# Employee Dictionary\n",
    "\n",
    "employee={\n",
    "    \"eid\":1001,\n",
    "    \"name\":\"john Doe\",\n",
    "    \"department\":\"I.T\",\n",
    "    \"salary\":45678\n",
    "}\n",
    "print(employee)\n",
    "print('Employee Id' ,employee['eid'])\n",
    "print('Employee Name:' , employee.get('name'))"
   ]
  },
  {
   "cell_type": "code",
   "execution_count": 4,
   "id": "fe62c931-4a2d-48bd-b8d4-d67ee69c5401",
   "metadata": {},
   "outputs": [
    {
     "name": "stdout",
     "output_type": "stream",
     "text": [
      "Manager: None\n",
      "Manager: Chandana\n"
     ]
    }
   ],
   "source": [
    "print('Manager:',employee.get('manager'))\n",
    "print('Manager:',employee.get('Manager',\"Chandana\"))"
   ]
  },
  {
   "cell_type": "code",
   "execution_count": 5,
   "id": "2fc722e5-9ab4-4fa3-abb4-03be9cf32e4c",
   "metadata": {},
   "outputs": [
    {
     "name": "stdout",
     "output_type": "stream",
     "text": [
      "('salary', 45678) removed\n",
      "{'eid': 1001, 'name': 'john Doe', 'department': 'I.T'}\n"
     ]
    }
   ],
   "source": [
    "data=employee.popitem()\n",
    "print(data,'removed')\n",
    "print(employee)"
   ]
  },
  {
   "cell_type": "code",
   "execution_count": 8,
   "id": "178868f3-ae87-4d37-8644-f0a9630ce7bb",
   "metadata": {},
   "outputs": [
    {
     "name": "stdout",
     "output_type": "stream",
     "text": [
      "45678 removed\n",
      "{'eid': 1001, 'name': 'john Doe', 'department': 'I.T'}\n"
     ]
    }
   ],
   "source": [
    "data=employee.pop('salary')\n",
    "print(data,'removed')\n",
    "print(employee)"
   ]
  },
  {
   "cell_type": "code",
   "execution_count": 16,
   "id": "616173af-f249-43f6-ae24-d82b0121a92f",
   "metadata": {},
   "outputs": [
    {
     "name": "stdout",
     "output_type": "stream",
     "text": [
      "id : 1\n",
      "name : alex\n",
      "email : alex@gmail.com\n",
      "address : Mysore\n"
     ]
    }
   ],
   "source": [
    "student={\n",
    "    \"id\":1,\n",
    "    \"name\":\"alex\",\n",
    "    \"email\":\"alex@gmail.com\",\n",
    "    \"address\":\"Mysore\"\n",
    "}\n",
    "for key in student:\n",
    "    print(key,\":\",student[key])\n"
   ]
  },
  {
   "cell_type": "code",
   "execution_count": 14,
   "id": "5fecff6d-fb2d-40df-96ab-87371f14e8bf",
   "metadata": {},
   "outputs": [
    {
     "name": "stdout",
     "output_type": "stream",
     "text": [
      "dict_items([('id', 1), ('name', 'alex'), ('email', 'alex@gmail.com'), ('address', 'Mysore')])\n"
     ]
    }
   ],
   "source": [
    "print(student.items())\n"
   ]
  },
  {
   "cell_type": "code",
   "execution_count": 17,
   "id": "1a192993-0e27-4e06-b0af-66a2be3d99ef",
   "metadata": {},
   "outputs": [
    {
     "name": "stdout",
     "output_type": "stream",
     "text": [
      "id : 1\n",
      "name : alex\n",
      "email : alex@gmail.com\n",
      "address : Mysore\n"
     ]
    }
   ],
   "source": [
    "for key,value in student.items():\n",
    "    print(key,\":\",value)"
   ]
  },
  {
   "cell_type": "code",
   "execution_count": 21,
   "id": "a9cd2399-f846-4821-94d7-16fa25ba67bb",
   "metadata": {},
   "outputs": [
    {
     "name": "stdout",
     "output_type": "stream",
     "text": [
      "address is present in student object\n"
     ]
    }
   ],
   "source": [
    "if \"address\" in student:\n",
    "    print(\"address is present in student object\")"
   ]
  },
  {
   "cell_type": "code",
   "execution_count": 36,
   "id": "50c0f4eb-abea-4577-a58a-389afb468be0",
   "metadata": {},
   "outputs": [
    {
     "name": "stdout",
     "output_type": "stream",
     "text": [
      "{403, 404, 500, 200, 302}\n"
     ]
    }
   ],
   "source": [
    "myset = {404, 200, 500, 302, 403, 500}\n",
    "print(myset)\n",
    " "
   ]
  },
  {
   "cell_type": "code",
   "execution_count": 38,
   "id": "2de4e4c7-712f-43f3-a4dc-2c7f1648feb6",
   "metadata": {},
   "outputs": [
    {
     "name": "stdout",
     "output_type": "stream",
     "text": [
      "403\n",
      "404\n",
      "500\n",
      "501\n",
      "200\n",
      "302\n",
      "{403, 404, 500, 501, 200, 302}\n"
     ]
    }
   ],
   "source": [
    "for num in myset:\n",
    "    print(num)\n",
    " \n",
    "myset.add(501)\n",
    " \n",
    "print(myset)"
   ]
  },
  {
   "cell_type": "code",
   "execution_count": 39,
   "id": "cef3c685-6f56-451c-b02d-a2bd7182d28b",
   "metadata": {},
   "outputs": [
    {
     "name": "stdout",
     "output_type": "stream",
     "text": [
      "{402, 403, 404, 500, 501, 200, 302, 303}\n",
      "{402, 403, 404, 500, 501, 200, 302}\n"
     ]
    }
   ],
   "source": [
    "# adding multiple values\n",
    " \n",
    "myset.update([303,402])\n",
    " \n",
    "print(myset)\n",
    " \n",
    "# Removal of elements\n",
    " \n",
    "myset.remove(303)\n",
    " \n",
    "print(myset)"
   ]
  },
  {
   "cell_type": "code",
   "execution_count": 40,
   "id": "d361fa2a-72e1-4bf6-8147-8bac3104318b",
   "metadata": {},
   "outputs": [
    {
     "name": "stdout",
     "output_type": "stream",
     "text": [
      "{402, 403, 404, 500, 501, 200, 302}\n",
      "{402, 403, 404, 500, 501, 200, 302, 303}\n"
     ]
    }
   ],
   "source": [
    "myset.add(501)\n",
    "print(myset)\n",
    "myset.update([303,402])\n",
    "print(myset)\n",
    "myset.remove(303)"
   ]
  },
  {
   "cell_type": "code",
   "execution_count": 41,
   "id": "86bc9ceb-2dfb-42b9-8d5d-aa26a3c08cef",
   "metadata": {},
   "outputs": [
    {
     "name": "stdout",
     "output_type": "stream",
     "text": [
      "set()\n"
     ]
    }
   ],
   "source": [
    "myset.clear()\n",
    "print(myset)"
   ]
  },
  {
   "cell_type": "code",
   "execution_count": 42,
   "id": "1678d8bf-4eff-4b96-923e-71a111da64d9",
   "metadata": {},
   "outputs": [
    {
     "name": "stdout",
     "output_type": "stream",
     "text": [
      "set()\n"
     ]
    },
    {
     "ename": "KeyError",
     "evalue": "'pop from an empty set'",
     "output_type": "error",
     "traceback": [
      "\u001b[1;31m---------------------------------------------------------------------------\u001b[0m",
      "\u001b[1;31mKeyError\u001b[0m                                  Traceback (most recent call last)",
      "Cell \u001b[1;32mIn[42], line 3\u001b[0m\n\u001b[0;32m      1\u001b[0m myset\u001b[38;5;241m.\u001b[39mdiscard(\u001b[38;5;241m303\u001b[39m)\n\u001b[0;32m      2\u001b[0m \u001b[38;5;28mprint\u001b[39m(myset)\n\u001b[1;32m----> 3\u001b[0m \u001b[43mmyset\u001b[49m\u001b[38;5;241;43m.\u001b[39;49m\u001b[43mpop\u001b[49m\u001b[43m(\u001b[49m\u001b[43m)\u001b[49m\n\u001b[0;32m      4\u001b[0m \u001b[38;5;28mprint\u001b[39m(myset)\n",
      "\u001b[1;31mKeyError\u001b[0m: 'pop from an empty set'"
     ]
    }
   ],
   "source": [
    "myset.discard(303)\n",
    "print(myset)\n",
    "myset.pop()\n",
    "print(myset)"
   ]
  },
  {
   "cell_type": "code",
   "execution_count": 43,
   "id": "9eabe0de-5c70-4b04-acd7-f57e4f1e72fd",
   "metadata": {},
   "outputs": [
    {
     "name": "stdout",
     "output_type": "stream",
     "text": [
      "set is empty\n"
     ]
    }
   ],
   "source": [
    "if len(myset)>0:\n",
    "    myset.pop()\n",
    "else:\n",
    "    print('set is empty')"
   ]
  },
  {
   "cell_type": "code",
   "execution_count": 44,
   "id": "248c843a-4a3f-4d76-a772-738af3b6c55d",
   "metadata": {},
   "outputs": [
    {
     "name": "stdout",
     "output_type": "stream",
     "text": [
      "{1, 2, 3, 4, 5}\n"
     ]
    }
   ],
   "source": [
    "myset.update([1,2,3,4,5])\n",
    "print(myset)"
   ]
  },
  {
   "cell_type": "code",
   "execution_count": 45,
   "id": "d7132561-c380-4379-9b2c-fc15d0e5dccb",
   "metadata": {},
   "outputs": [
    {
     "name": "stdout",
     "output_type": "stream",
     "text": [
      "{1, 2, 3, 4, 5, 6, 7, 8}\n",
      "{1, 2, 3, 4, 5, 6, 7, 8}\n",
      "{4, 5}\n",
      "{4, 5}\n",
      "{1, 2, 3}\n",
      "{1, 2, 3}\n",
      "{1, 2, 3, 6, 7, 8}\n",
      "{1, 2, 3, 6, 7, 8}\n"
     ]
    }
   ],
   "source": [
    "A = {1,2,3,4,5}\n",
    "B = {4,5,6,7,8}\n",
    " \n",
    "print(A | B)\n",
    "print(A.union(B))\n",
    " \n",
    "print(A & B)\n",
    "print(A.intersection(B))\n",
    " \n",
    "print(A -B)\n",
    "print(A.difference(B))\n",
    " \n",
    "print(A ^ B)\n",
    "print(A.symmetric_difference(B))"
   ]
  },
  {
   "cell_type": "code",
   "execution_count": 47,
   "id": "ad2aec71-b7e8-4885-a8c9-aa10504494d7",
   "metadata": {},
   "outputs": [
    {
     "name": "stdout",
     "output_type": "stream",
     "text": [
      "Employee: Alice, Salary: 72000\n",
      "Employee: Bob, Salary: 80000\n",
      "Employee: David, Salary: 85000\n"
     ]
    }
   ],
   "source": [
    "employees = {\n",
    "    \"Alice\": 70000,\n",
    "    \"Bob\": 80000,\n",
    "    \"Charlie\": 75000\n",
    "}\n",
    "# add new employee\n",
    "employees[\"David\"] = 85000\n",
    "#update employee\n",
    "employees[\"Alice\"] = 72000\n",
    "# remove employee\n",
    "del employees[\"Charlie\"]\n",
    "# print all employee\n",
    "for name, salary in employees.items():\n",
    "    print(f\"Employee: {name}, Salary: {salary}\")\n"
   ]
  },
  {
   "cell_type": "code",
   "execution_count": 48,
   "id": "ea83ebba-ef44-4d07-8638-433af9c49b11",
   "metadata": {},
   "outputs": [
    {
     "ename": "SyntaxError",
     "evalue": "invalid syntax (508578648.py, line 20)",
     "output_type": "error",
     "traceback": [
      "\u001b[1;36m  Cell \u001b[1;32mIn[48], line 20\u001b[1;36m\u001b[0m\n\u001b[1;33m    has context menu\u001b[0m\n\u001b[1;37m        ^\u001b[0m\n\u001b[1;31mSyntaxError\u001b[0m\u001b[1;31m:\u001b[0m invalid syntax\n"
     ]
    }
   ],
   "source": [
    "employee={\n",
    " \n",
    "    \"emp1\": {\"id\":101,\"name\":\"Honey\",\"department\":\"IT\",\"salary\":250000},\n",
    "    \"emp2\": {\"id\":102,\"name\":\"Aarushi\",\"department\":\"HR\",\"salary\":200000},\n",
    "    \"emp3\": {\"id\":103,\"name\":\"Gugu\",\"department\":\"Finance\",\"salary\":300000},\n",
    "    \"emp4\": {\"id\":104,\"name\":\"Dugu\",\"department\":\"Sales\",\"salary\":300000}\n",
    "}\n",
    "def add_employee(id,name,department,salary):\n",
    "    n=len(employee)\n",
    "    employee[\"emp\"+str(n+1)]={\"id\":id,\"name\":name,\"department\":department,\"salary\":salary}\n",
    "    print(\"Employee added successfully\")\n",
    "def print_employees(employees):\n",
    "    for emp in employees:\n",
    "        print(\"**********************\")\n",
    "        for key,value in employees[emp].items():\n",
    "            print(key,\":\",value)\n",
    " \n",
    "add_employee(105,\"Oreo\",\"Marketing\",200000)\n",
    "print_employees(employee)\n",
    "has context menu"
   ]
  },
  {
   "cell_type": "code",
   "execution_count": 49,
   "id": "977c3254-f5b8-44c4-a0c6-869772c321d4",
   "metadata": {},
   "outputs": [
    {
     "name": "stdout",
     "output_type": "stream",
     "text": [
      "Employee added successfully\n",
      "Employee updated successfully\n",
      "Employee removed successfully\n",
      "**********************\n",
      "id : 102\n",
      "name : Aarushi\n",
      "department : HR\n",
      "salary : 200000\n",
      "**********************\n",
      "id : 103\n",
      "name : Gugu\n",
      "department : Finance\n",
      "salary : 300000\n",
      "**********************\n",
      "id : 104\n",
      "name : Dugu\n",
      "department : Sales\n",
      "salary : 300000\n",
      "**********************\n",
      "id : 105\n",
      "name : Oreo\n",
      "department : Marketing\n",
      "salary : 200000\n"
     ]
    }
   ],
   "source": [
    "employee={\n",
    " \n",
    "    \"emp1\": {\"id\":101,\"name\":\"Honey\",\"department\":\"IT\",\"salary\":250000},\n",
    "    \"emp2\": {\"id\":102,\"name\":\"Aarushi\",\"department\":\"HR\",\"salary\":200000},\n",
    "    \"emp3\": {\"id\":103,\"name\":\"Gugu\",\"department\":\"Finance\",\"salary\":300000},\n",
    "    \"emp4\": {\"id\":104,\"name\":\"Dugu\",\"department\":\"Sales\",\"salary\":300000}\n",
    "}\n",
    "def add_employee(id,name,department,salary):\n",
    "    n=len(employee)\n",
    "    employee[\"emp\"+str(n+1)]={\"id\":id,\"name\":name,\"department\":department,\"salary\":salary}\n",
    "    print(\"Employee added successfully\")\n",
    " \n",
    " \n",
    "def update_employee(id,salary):\n",
    "    for emp in employee:\n",
    "        if employee[emp][\"id\"]==id:\n",
    "            employee[emp][\"salary\"]=salary\n",
    "            print(\"Employee updated successfully\")\n",
    "            break\n",
    " \n",
    "def remove_employee(id):\n",
    "    for emp in employee:\n",
    "        if employee[emp][\"id\"]==id:\n",
    "            del employee[emp]\n",
    "            print(\"Employee removed successfully\")\n",
    "            break\n",
    " \n",
    "def print_employees(employees):\n",
    "    for emp in employees:\n",
    "        print(\"**********************\")\n",
    "        for key,value in employees[emp].items():\n",
    "            print(key,\":\",value)\n",
    " \n",
    " \n",
    "add_employee(105,\"Oreo\",\"Marketing\",200000)\n",
    "update_employee(101,550000)\n",
    "remove_employee(101)\n",
    "print_employees(employee)"
   ]
  },
  {
   "cell_type": "code",
   "execution_count": null,
   "id": "668a0c7d-2fe9-4b60-a991-b26bfb5ed202",
   "metadata": {},
   "outputs": [],
   "source": []
  }
 ],
 "metadata": {
  "kernelspec": {
   "display_name": "Python 3 (ipykernel)",
   "language": "python",
   "name": "python3"
  },
  "language_info": {
   "codemirror_mode": {
    "name": "ipython",
    "version": 3
   },
   "file_extension": ".py",
   "mimetype": "text/x-python",
   "name": "python",
   "nbconvert_exporter": "python",
   "pygments_lexer": "ipython3",
   "version": "3.13.2"
  }
 },
 "nbformat": 4,
 "nbformat_minor": 5
}
